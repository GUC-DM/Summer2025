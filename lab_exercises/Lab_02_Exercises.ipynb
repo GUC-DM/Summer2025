{
  "cells": [
    {
      "cell_type": "markdown",
      "metadata": {
        "id": "s7flC814twqT"
      },
      "source": [
        "# Lab 2 Exercises"
      ]
    },
    {
      "cell_type": "markdown",
      "metadata": {
        "id": "TSRpsbVltwqU"
      },
      "source": [
        "## Exercise 1 - List Comprehension\n",
        "\n",
        "Re-implement exercise 9 from Lab 1 using list comprehension. Given a list containing product prices and the value-added tax (VAT), create a list containing the prices after tax."
      ]
    },
    {
      "cell_type": "code",
      "execution_count": 10,
      "metadata": {
        "id": "w0MB1bsTtwqU"
      },
      "outputs": [],
      "source": [
        "prices = [10.0, 23.0, 95.0, 40.0, 65.0]\n",
        "vat = 0.14\n",
        "\n",
        "# your code below\n"
      ]
    },
    {
      "cell_type": "markdown",
      "metadata": {
        "id": "rDditBgPtwqV"
      },
      "source": [
        "Re-implement the list comprehension with the following new information: products/services sold under 50 units of currency are exempt from tax\n",
        "\n",
        "_Hint: inline if expression_"
      ]
    },
    {
      "cell_type": "code",
      "execution_count": 10,
      "metadata": {
        "id": "0Ao6xgq1twqV"
      },
      "outputs": [],
      "source": []
    },
    {
      "cell_type": "markdown",
      "metadata": {
        "id": "6Ttr8UfEtwqV"
      },
      "source": [
        "## Exercise 2 - Looping, Conditionals and Function Calling\n",
        "\n",
        "Complete the following function named `decode` that takes in a string, and returns its hidden message (encoded using upper case letters).\n",
        "\n",
        "Useful reference: [python's documentation on string methods](https://docs.python.org/3/library/stdtypes.html#string-methods)"
      ]
    },
    {
      "cell_type": "code",
      "execution_count": 11,
      "metadata": {
        "colab": {
          "base_uri": "https://localhost:8080/",
          "height": 36
        },
        "id": "OHhbJrMstwqV",
        "outputId": "2d488bf5-7833-41a6-cab8-3616c622a28a"
      },
      "outputs": [
        {
          "output_type": "execute_result",
          "data": {
            "text/plain": [
              "''"
            ],
            "application/vnd.google.colaboratory.intrinsic+json": {
              "type": "string"
            }
          },
          "metadata": {},
          "execution_count": 11
        }
      ],
      "source": [
        "# function definition\n",
        "def decode(message):\n",
        "    decoded_message = ''\n",
        "\n",
        "    # your code here\n",
        "\n",
        "    return decoded_message\n",
        "\n",
        "\n",
        "msg = 'steganograpHy is the practicE of conceaLing a fiLe, message, image, Or video Within anOtheR fiLe, message, image, or viDeo.'\n",
        "\n",
        "decode(msg)"
      ]
    },
    {
      "cell_type": "markdown",
      "metadata": {
        "id": "_Kpj9V6jtwqV"
      },
      "source": [
        "## Exercise 3 - Preprocessing w/ List Comprehension\n",
        "\n",
        "Use the string instance functions `lower()`, `strip()`, `replace(' ', '_')` (to replace spaces with underscores) using list comprehension to normalize the following list of column names.\n",
        "\n",
        "Useful reference: [python's documentation on string methods](https://docs.python.org/3/library/stdtypes.html#string-methods)"
      ]
    },
    {
      "cell_type": "code",
      "execution_count": 12,
      "metadata": {
        "id": "3wpjNDsxtwqV"
      },
      "outputs": [],
      "source": [
        "column_names = [\"Id\", \"FIRST NAME\", \"Last name\", \"gender\", \"contact Number\", \" SSN\", \"TYPE  \", \"  PO Box  \"]\n",
        "\n",
        "# your code here\n"
      ]
    },
    {
      "cell_type": "markdown",
      "metadata": {
        "id": "mPXRrEZBtwqW"
      },
      "source": [
        "Re-implement your solution using `lambda` and `map`"
      ]
    },
    {
      "cell_type": "code",
      "execution_count": 12,
      "metadata": {
        "id": "zzq5IfJctwqW"
      },
      "outputs": [],
      "source": []
    },
    {
      "cell_type": "markdown",
      "metadata": {
        "id": "Hs56GfgmtwqW"
      },
      "source": [
        "## Exercise 4 - Functions and List Comprehension / Mapping\n",
        "\n",
        "Mini-scenario: As part of an analysis on automotive sales, you'd like to find out the most popular paint color group.\n",
        "\n",
        "Create a function that takes a paint color and returns its general color classification. For simplicity, assume that all the car paint colors are written in English, and follow the pattern `'{Adjective|Noun} {Color}'`.\n",
        "\n",
        "Example Input: `'Metallic Blue'`\n",
        "\n",
        "Example Output: `'Blue'`\n",
        "\n",
        "_Hint: consider using `split` [(python documentation page)](https://docs.python.org/3/library/stdtypes.html#str.split)_"
      ]
    },
    {
      "cell_type": "code",
      "execution_count": 13,
      "metadata": {
        "id": "lbAP56TBtwqW"
      },
      "outputs": [],
      "source": [
        "# function definition\n"
      ]
    },
    {
      "cell_type": "markdown",
      "metadata": {
        "id": "Nj0G6_lItwqW"
      },
      "source": [
        "Apply the function over the following column of data and create a new list containing the generalized color of each car paint in `car_paint_column`"
      ]
    },
    {
      "cell_type": "code",
      "execution_count": 14,
      "metadata": {
        "id": "ELHjFzJttwqW"
      },
      "outputs": [],
      "source": [
        "car_paint_column = ['Pearl White', 'British Racing Green', 'Burgundy Red', 'Electric Blue', 'Titanium Grey', 'Lime Green', 'Midnight Black', 'Ivory White', 'Pearl Black', 'Pearl Green', 'Midnight Blue', 'Jet Black']\n",
        "\n",
        "# applying the function\n"
      ]
    },
    {
      "cell_type": "markdown",
      "metadata": {
        "id": "uwEfcXWBtwqW"
      },
      "source": [
        "## Exercise 5 - Extracting Information from Text (🌶️)"
      ]
    },
    {
      "cell_type": "markdown",
      "metadata": {
        "id": "UcymUoVTtwqX"
      },
      "source": [
        "*Note: 🌶️ signifies optional challenging exercises*\n",
        "\n",
        "Mini-scenario: you've chosen to scrape Wikipedia articles to construct a large dataset of wildlife and fauna found in Egypt as part of a wildlife research project, which you'll use as a basis for further modification.\n",
        "\n",
        "Given the below excerpt from the Wikipedia article on birds in Egypt, extract the common name and the scientific name of each bird, save them in a dictionary with the keys `common_name`, `scientific_name` and append them to a list called `bird_dataset`.\n",
        "\n",
        "Example Output:\n",
        "```python\n",
        "[{'common_name': 'Common ostrich',\n",
        "  'scientific_name': ' Struthio camelus'},\n",
        " {'common_name': 'North African ostrich',\n",
        "  'scientific_name': ' Struthio camelus camelus'},\n",
        " {'common_name': 'Arabian ostrich',\n",
        "  'scientific_name': ' Struthio camelus syriacus (X)'},\n",
        " ...\n",
        "]\n",
        "```\n",
        "\n",
        "**Bonus challenge:** for each bird, extract the bird's category, order and family as well and add them with the keys `category`, `order` and `family`\n",
        "\n",
        "Data source: [\"Wikipedia: List of birds in Egypt.\"](https://en.wikipedia.org/wiki/List_of_birds_of_Egypt)"
      ]
    },
    {
      "cell_type": "code",
      "execution_count": 15,
      "metadata": {
        "id": "2LUUYZb2twqX"
      },
      "outputs": [],
      "source": [
        "scraped_text =\"\"\"\\\n",
        "Ostriches[edit]\n",
        "\n",
        "Order: Struthioniformes   Family: Struthionidae\n",
        "\n",
        "The ostrich is a flightless bird native to Africa. It is the largest living species of bird. It is distinctive in its appearance, with a long neck and legs and the ability to run at high speeds.\n",
        "\n",
        "    Common ostrich, Struthio camelus\n",
        "        North African ostrich, Struthio camelus camelus\n",
        "        Arabian ostrich, Struthio camelus syriacus (X)\n",
        "\n",
        "Cranes[edit]\n",
        "\n",
        "Order: Gruiformes   Family: Gruidae\n",
        "\n",
        "Cranes are large, long-legged and long-necked birds. Unlike the similar-looking but unrelated herons, cranes fly with necks outstretched, not pulled back. Most have elaborate and noisy courting displays or \"dances\".\n",
        "\n",
        "    Demoiselle crane, Anthropoides virgo; Ancient Egyptian wDc 'splitter' (??)\n",
        "    Common crane, Grus grus; Ancient Egyptian: D3.t 'the one stretching/reaching' or 'borer'\n",
        "\n",
        "Hawks, eagles, and kites[edit]\n",
        "\n",
        "Order: Accipitriformes   Family: Accipitridae\n",
        "\n",
        "Accipitridae is a family of birds of prey, which includes hawks, eagles, kites, harriers and Old World vultures. These birds have powerful hooked beaks for tearing flesh from their prey, strong legs, powerful talons and keen eyesight.\n",
        "\n",
        "    Black-winged kite, Elanus caeruleus\n",
        "    Bearded vulture, Gypaetus barbatus\n",
        "    Egyptian vulture, Neophron percnopterus; Ancient Egyptian: 3 (the hieroglyph) 'one who treads ?\n",
        "    European honey-buzzard, Pernis apivorus\n",
        "    Oriental honey-buzzard, Pernis ptilorhynchus (A)\n",
        "    Cinereous vulture, Aegypius monachus\n",
        "    Lappet-faced vulture, Torgos tracheliotos\n",
        "    White-backed vulture, Gyps africanus (A)\n",
        "    Rüppell's vulture, Gyps rueppelli\n",
        "    Eurasian griffon, Gyps fulvus; Ancient Egyptian: nr(w) 'terrifying one'\n",
        "    Bateleur, Terathopius ecaudatus\n",
        "    Short-toed snake-eagle, Circaetus gallicus\n",
        "    Lesser spotted eagle, Clanga pomarina\n",
        "    Greater spotted eagle, Clanga clanga\n",
        "    Wahlberg's eagle, Hieraaetus wahlbergi (A)\n",
        "    Booted eagle, Hieraaetus pennatus\n",
        "    Tawny eagle, Aquila rapax (A)\n",
        "    Steppe eagle, Aquila nipalensis\n",
        "    Imperial eagle, Aquila heliaca\n",
        "    Golden eagle, Aquila chrysaetos\n",
        "    Verreaux's eagle, Aquila verreauxii\n",
        "    Bonelli's eagle, Aquila fasciata\n",
        "    Gabar goshawk, Micronisus gabar (A)\n",
        "    Eurasian marsh-harrier, Circus aeruginosus\n",
        "    Hen harrier, Circus cyaneus\n",
        "    Pallid harrier, Circus macrourus\n",
        "    Montagu's harrier, Circus pygargus\n",
        "    Levant sparrowhawk, Accipiter brevipes\n",
        "    Eurasian sparrowhawk, Accipiter nisus\n",
        "    Northern goshawk, Accipiter gentilis\n",
        "    Red kite, Milvus milvus\n",
        "    Black kite, Milvus migrans; Ancient Egyptian: Dr/Dr.t (possibly) 'one who grasps/holds'\n",
        "    White-tailed eagle, Haliaeetus albicilla\n",
        "    African fish-eagle, Haliaeetus vocifer (A)\n",
        "    Yellow-billed kite, Milvus aegyptius\n",
        "    Common buzzard, Buteo buteo; Ancient Egyptian: tyw 'shrieker' (like ti3w) or 'treader' (like tiw(?)\n",
        "    Long-legged buzzard, Buteo rufinus\n",
        "\n",
        "Storks[edit]\n",
        "\n",
        "Order: Ciconiiformes   Family: Ciconiidae\n",
        "\n",
        "Storks are large, long-legged, long-necked, wading birds with long, stout bills. Storks are mute, but bill-clattering is an important mode of communication at the nest. Their nests can be large and may be reused for many years. Many species are migratory.\n",
        "\n",
        "    African openbill, Anastomus lamelligerus (A)\n",
        "    Black stork, Ciconia nigra\n",
        "    White stork, Ciconia ciconia\n",
        "    Marabou stork, Leptoptilos crumenifer (A)\n",
        "    Yellow-billed stork, Mycteria ibis\n",
        "\n",
        "Bulbuls[edit]\n",
        "\n",
        "Order: Passeriformes   Family: Pycnonotidae\n",
        "\n",
        "Bulbuls are medium-sized songbirds. Some are colourful with yellow, red or orange vents, cheeks, throats or supercilia, but most are drab, with uniform olive-brown to black plumage. Some species have distinct crests.\n",
        "\n",
        "    Common bulbul, Pycnonotus barbatus\n",
        "    White-spectacled bulbul, Pycnonotus xanthopygos\n",
        "\"\"\"\n",
        "\n",
        "# your code below\n",
        "\n"
      ]
    },
    {
      "cell_type": "markdown",
      "metadata": {
        "id": "bCsKGBbmtwqX"
      },
      "source": [
        "## DataFrames"
      ]
    },
    {
      "cell_type": "markdown",
      "metadata": {
        "id": "ex3Omaf1twqX"
      },
      "source": [
        "The exercises below will be using the `world_factbook.csv` dataset used in the lab notebook."
      ]
    },
    {
      "cell_type": "code",
      "execution_count": 16,
      "metadata": {
        "colab": {
          "base_uri": "https://localhost:8080/",
          "height": 241
        },
        "id": "WYdDx30DtwqX",
        "outputId": "9ec5acee-5c67-428a-d2bd-2ce7559cfcc3"
      },
      "outputs": [
        {
          "output_type": "execute_result",
          "data": {
            "text/plain": [
              "          country                region  population     area  density  \\\n",
              "0     Afghanistan  ASIA (EX. NEAR EAST)    31056997   647500     48.0   \n",
              "1         Albania        EASTERN EUROPE     3581655    28748    124.6   \n",
              "2         Algeria       NORTHERN AFRICA    32930091  2381740     13.8   \n",
              "3  American Samoa               OCEANIA       57794      199    290.4   \n",
              "4         Andorra        WESTERN EUROPE       71201      468    152.1   \n",
              "\n",
              "   coastline  migration  infant_mortality           gdp  literacy  phones  \\\n",
              "0       0.00      23.06            163.07  2.173990e+10      36.0     3.2   \n",
              "1       1.26      -4.93             21.52  1.611745e+10      86.5    71.2   \n",
              "2       0.04      -0.39             31.00  1.975805e+11      70.0    78.1   \n",
              "3      58.29     -20.71              9.27  4.623520e+08      97.0   259.5   \n",
              "4       0.00       6.60              4.05  1.352819e+09     100.0   497.2   \n",
              "\n",
              "   arable  crops  other  climate  birthrate  deathrate  agriculture  industry  \\\n",
              "0   12.13   0.22  87.65      1.0      46.60      20.34        0.380     0.240   \n",
              "1   21.09   4.42  74.49      3.0      15.11       5.22        0.232     0.188   \n",
              "2    3.22   0.25  96.53      1.0      17.14       4.61        0.101     0.600   \n",
              "3   10.00  15.00  75.00      2.0      22.46       3.27          NaN       NaN   \n",
              "4    2.22   0.00  97.78      3.0       8.71       6.25          NaN       NaN   \n",
              "\n",
              "   service  \n",
              "0    0.380  \n",
              "1    0.579  \n",
              "2    0.298  \n",
              "3      NaN  \n",
              "4      NaN  "
            ],
            "text/html": [
              "\n",
              "  <div id=\"df-11d9003b-5fbb-435a-a7c2-2b2e3de9771a\" class=\"colab-df-container\">\n",
              "    <div>\n",
              "<style scoped>\n",
              "    .dataframe tbody tr th:only-of-type {\n",
              "        vertical-align: middle;\n",
              "    }\n",
              "\n",
              "    .dataframe tbody tr th {\n",
              "        vertical-align: top;\n",
              "    }\n",
              "\n",
              "    .dataframe thead th {\n",
              "        text-align: right;\n",
              "    }\n",
              "</style>\n",
              "<table border=\"1\" class=\"dataframe\">\n",
              "  <thead>\n",
              "    <tr style=\"text-align: right;\">\n",
              "      <th></th>\n",
              "      <th>country</th>\n",
              "      <th>region</th>\n",
              "      <th>population</th>\n",
              "      <th>area</th>\n",
              "      <th>density</th>\n",
              "      <th>coastline</th>\n",
              "      <th>migration</th>\n",
              "      <th>infant_mortality</th>\n",
              "      <th>gdp</th>\n",
              "      <th>literacy</th>\n",
              "      <th>phones</th>\n",
              "      <th>arable</th>\n",
              "      <th>crops</th>\n",
              "      <th>other</th>\n",
              "      <th>climate</th>\n",
              "      <th>birthrate</th>\n",
              "      <th>deathrate</th>\n",
              "      <th>agriculture</th>\n",
              "      <th>industry</th>\n",
              "      <th>service</th>\n",
              "    </tr>\n",
              "  </thead>\n",
              "  <tbody>\n",
              "    <tr>\n",
              "      <th>0</th>\n",
              "      <td>Afghanistan</td>\n",
              "      <td>ASIA (EX. NEAR EAST)</td>\n",
              "      <td>31056997</td>\n",
              "      <td>647500</td>\n",
              "      <td>48.0</td>\n",
              "      <td>0.00</td>\n",
              "      <td>23.06</td>\n",
              "      <td>163.07</td>\n",
              "      <td>2.173990e+10</td>\n",
              "      <td>36.0</td>\n",
              "      <td>3.2</td>\n",
              "      <td>12.13</td>\n",
              "      <td>0.22</td>\n",
              "      <td>87.65</td>\n",
              "      <td>1.0</td>\n",
              "      <td>46.60</td>\n",
              "      <td>20.34</td>\n",
              "      <td>0.380</td>\n",
              "      <td>0.240</td>\n",
              "      <td>0.380</td>\n",
              "    </tr>\n",
              "    <tr>\n",
              "      <th>1</th>\n",
              "      <td>Albania</td>\n",
              "      <td>EASTERN EUROPE</td>\n",
              "      <td>3581655</td>\n",
              "      <td>28748</td>\n",
              "      <td>124.6</td>\n",
              "      <td>1.26</td>\n",
              "      <td>-4.93</td>\n",
              "      <td>21.52</td>\n",
              "      <td>1.611745e+10</td>\n",
              "      <td>86.5</td>\n",
              "      <td>71.2</td>\n",
              "      <td>21.09</td>\n",
              "      <td>4.42</td>\n",
              "      <td>74.49</td>\n",
              "      <td>3.0</td>\n",
              "      <td>15.11</td>\n",
              "      <td>5.22</td>\n",
              "      <td>0.232</td>\n",
              "      <td>0.188</td>\n",
              "      <td>0.579</td>\n",
              "    </tr>\n",
              "    <tr>\n",
              "      <th>2</th>\n",
              "      <td>Algeria</td>\n",
              "      <td>NORTHERN AFRICA</td>\n",
              "      <td>32930091</td>\n",
              "      <td>2381740</td>\n",
              "      <td>13.8</td>\n",
              "      <td>0.04</td>\n",
              "      <td>-0.39</td>\n",
              "      <td>31.00</td>\n",
              "      <td>1.975805e+11</td>\n",
              "      <td>70.0</td>\n",
              "      <td>78.1</td>\n",
              "      <td>3.22</td>\n",
              "      <td>0.25</td>\n",
              "      <td>96.53</td>\n",
              "      <td>1.0</td>\n",
              "      <td>17.14</td>\n",
              "      <td>4.61</td>\n",
              "      <td>0.101</td>\n",
              "      <td>0.600</td>\n",
              "      <td>0.298</td>\n",
              "    </tr>\n",
              "    <tr>\n",
              "      <th>3</th>\n",
              "      <td>American Samoa</td>\n",
              "      <td>OCEANIA</td>\n",
              "      <td>57794</td>\n",
              "      <td>199</td>\n",
              "      <td>290.4</td>\n",
              "      <td>58.29</td>\n",
              "      <td>-20.71</td>\n",
              "      <td>9.27</td>\n",
              "      <td>4.623520e+08</td>\n",
              "      <td>97.0</td>\n",
              "      <td>259.5</td>\n",
              "      <td>10.00</td>\n",
              "      <td>15.00</td>\n",
              "      <td>75.00</td>\n",
              "      <td>2.0</td>\n",
              "      <td>22.46</td>\n",
              "      <td>3.27</td>\n",
              "      <td>NaN</td>\n",
              "      <td>NaN</td>\n",
              "      <td>NaN</td>\n",
              "    </tr>\n",
              "    <tr>\n",
              "      <th>4</th>\n",
              "      <td>Andorra</td>\n",
              "      <td>WESTERN EUROPE</td>\n",
              "      <td>71201</td>\n",
              "      <td>468</td>\n",
              "      <td>152.1</td>\n",
              "      <td>0.00</td>\n",
              "      <td>6.60</td>\n",
              "      <td>4.05</td>\n",
              "      <td>1.352819e+09</td>\n",
              "      <td>100.0</td>\n",
              "      <td>497.2</td>\n",
              "      <td>2.22</td>\n",
              "      <td>0.00</td>\n",
              "      <td>97.78</td>\n",
              "      <td>3.0</td>\n",
              "      <td>8.71</td>\n",
              "      <td>6.25</td>\n",
              "      <td>NaN</td>\n",
              "      <td>NaN</td>\n",
              "      <td>NaN</td>\n",
              "    </tr>\n",
              "  </tbody>\n",
              "</table>\n",
              "</div>\n",
              "    <div class=\"colab-df-buttons\">\n",
              "\n",
              "  <div class=\"colab-df-container\">\n",
              "    <button class=\"colab-df-convert\" onclick=\"convertToInteractive('df-11d9003b-5fbb-435a-a7c2-2b2e3de9771a')\"\n",
              "            title=\"Convert this dataframe to an interactive table.\"\n",
              "            style=\"display:none;\">\n",
              "\n",
              "  <svg xmlns=\"http://www.w3.org/2000/svg\" height=\"24px\" viewBox=\"0 -960 960 960\">\n",
              "    <path d=\"M120-120v-720h720v720H120Zm60-500h600v-160H180v160Zm220 220h160v-160H400v160Zm0 220h160v-160H400v160ZM180-400h160v-160H180v160Zm440 0h160v-160H620v160ZM180-180h160v-160H180v160Zm440 0h160v-160H620v160Z\"/>\n",
              "  </svg>\n",
              "    </button>\n",
              "\n",
              "  <style>\n",
              "    .colab-df-container {\n",
              "      display:flex;\n",
              "      gap: 12px;\n",
              "    }\n",
              "\n",
              "    .colab-df-convert {\n",
              "      background-color: #E8F0FE;\n",
              "      border: none;\n",
              "      border-radius: 50%;\n",
              "      cursor: pointer;\n",
              "      display: none;\n",
              "      fill: #1967D2;\n",
              "      height: 32px;\n",
              "      padding: 0 0 0 0;\n",
              "      width: 32px;\n",
              "    }\n",
              "\n",
              "    .colab-df-convert:hover {\n",
              "      background-color: #E2EBFA;\n",
              "      box-shadow: 0px 1px 2px rgba(60, 64, 67, 0.3), 0px 1px 3px 1px rgba(60, 64, 67, 0.15);\n",
              "      fill: #174EA6;\n",
              "    }\n",
              "\n",
              "    .colab-df-buttons div {\n",
              "      margin-bottom: 4px;\n",
              "    }\n",
              "\n",
              "    [theme=dark] .colab-df-convert {\n",
              "      background-color: #3B4455;\n",
              "      fill: #D2E3FC;\n",
              "    }\n",
              "\n",
              "    [theme=dark] .colab-df-convert:hover {\n",
              "      background-color: #434B5C;\n",
              "      box-shadow: 0px 1px 3px 1px rgba(0, 0, 0, 0.15);\n",
              "      filter: drop-shadow(0px 1px 2px rgba(0, 0, 0, 0.3));\n",
              "      fill: #FFFFFF;\n",
              "    }\n",
              "  </style>\n",
              "\n",
              "    <script>\n",
              "      const buttonEl =\n",
              "        document.querySelector('#df-11d9003b-5fbb-435a-a7c2-2b2e3de9771a button.colab-df-convert');\n",
              "      buttonEl.style.display =\n",
              "        google.colab.kernel.accessAllowed ? 'block' : 'none';\n",
              "\n",
              "      async function convertToInteractive(key) {\n",
              "        const element = document.querySelector('#df-11d9003b-5fbb-435a-a7c2-2b2e3de9771a');\n",
              "        const dataTable =\n",
              "          await google.colab.kernel.invokeFunction('convertToInteractive',\n",
              "                                                    [key], {});\n",
              "        if (!dataTable) return;\n",
              "\n",
              "        const docLinkHtml = 'Like what you see? Visit the ' +\n",
              "          '<a target=\"_blank\" href=https://colab.research.google.com/notebooks/data_table.ipynb>data table notebook</a>'\n",
              "          + ' to learn more about interactive tables.';\n",
              "        element.innerHTML = '';\n",
              "        dataTable['output_type'] = 'display_data';\n",
              "        await google.colab.output.renderOutput(dataTable, element);\n",
              "        const docLink = document.createElement('div');\n",
              "        docLink.innerHTML = docLinkHtml;\n",
              "        element.appendChild(docLink);\n",
              "      }\n",
              "    </script>\n",
              "  </div>\n",
              "\n",
              "\n",
              "    <div id=\"df-979e2b20-10b8-4156-9021-80b5af5eda16\">\n",
              "      <button class=\"colab-df-quickchart\" onclick=\"quickchart('df-979e2b20-10b8-4156-9021-80b5af5eda16')\"\n",
              "                title=\"Suggest charts\"\n",
              "                style=\"display:none;\">\n",
              "\n",
              "<svg xmlns=\"http://www.w3.org/2000/svg\" height=\"24px\"viewBox=\"0 0 24 24\"\n",
              "     width=\"24px\">\n",
              "    <g>\n",
              "        <path d=\"M19 3H5c-1.1 0-2 .9-2 2v14c0 1.1.9 2 2 2h14c1.1 0 2-.9 2-2V5c0-1.1-.9-2-2-2zM9 17H7v-7h2v7zm4 0h-2V7h2v10zm4 0h-2v-4h2v4z\"/>\n",
              "    </g>\n",
              "</svg>\n",
              "      </button>\n",
              "\n",
              "<style>\n",
              "  .colab-df-quickchart {\n",
              "      --bg-color: #E8F0FE;\n",
              "      --fill-color: #1967D2;\n",
              "      --hover-bg-color: #E2EBFA;\n",
              "      --hover-fill-color: #174EA6;\n",
              "      --disabled-fill-color: #AAA;\n",
              "      --disabled-bg-color: #DDD;\n",
              "  }\n",
              "\n",
              "  [theme=dark] .colab-df-quickchart {\n",
              "      --bg-color: #3B4455;\n",
              "      --fill-color: #D2E3FC;\n",
              "      --hover-bg-color: #434B5C;\n",
              "      --hover-fill-color: #FFFFFF;\n",
              "      --disabled-bg-color: #3B4455;\n",
              "      --disabled-fill-color: #666;\n",
              "  }\n",
              "\n",
              "  .colab-df-quickchart {\n",
              "    background-color: var(--bg-color);\n",
              "    border: none;\n",
              "    border-radius: 50%;\n",
              "    cursor: pointer;\n",
              "    display: none;\n",
              "    fill: var(--fill-color);\n",
              "    height: 32px;\n",
              "    padding: 0;\n",
              "    width: 32px;\n",
              "  }\n",
              "\n",
              "  .colab-df-quickchart:hover {\n",
              "    background-color: var(--hover-bg-color);\n",
              "    box-shadow: 0 1px 2px rgba(60, 64, 67, 0.3), 0 1px 3px 1px rgba(60, 64, 67, 0.15);\n",
              "    fill: var(--button-hover-fill-color);\n",
              "  }\n",
              "\n",
              "  .colab-df-quickchart-complete:disabled,\n",
              "  .colab-df-quickchart-complete:disabled:hover {\n",
              "    background-color: var(--disabled-bg-color);\n",
              "    fill: var(--disabled-fill-color);\n",
              "    box-shadow: none;\n",
              "  }\n",
              "\n",
              "  .colab-df-spinner {\n",
              "    border: 2px solid var(--fill-color);\n",
              "    border-color: transparent;\n",
              "    border-bottom-color: var(--fill-color);\n",
              "    animation:\n",
              "      spin 1s steps(1) infinite;\n",
              "  }\n",
              "\n",
              "  @keyframes spin {\n",
              "    0% {\n",
              "      border-color: transparent;\n",
              "      border-bottom-color: var(--fill-color);\n",
              "      border-left-color: var(--fill-color);\n",
              "    }\n",
              "    20% {\n",
              "      border-color: transparent;\n",
              "      border-left-color: var(--fill-color);\n",
              "      border-top-color: var(--fill-color);\n",
              "    }\n",
              "    30% {\n",
              "      border-color: transparent;\n",
              "      border-left-color: var(--fill-color);\n",
              "      border-top-color: var(--fill-color);\n",
              "      border-right-color: var(--fill-color);\n",
              "    }\n",
              "    40% {\n",
              "      border-color: transparent;\n",
              "      border-right-color: var(--fill-color);\n",
              "      border-top-color: var(--fill-color);\n",
              "    }\n",
              "    60% {\n",
              "      border-color: transparent;\n",
              "      border-right-color: var(--fill-color);\n",
              "    }\n",
              "    80% {\n",
              "      border-color: transparent;\n",
              "      border-right-color: var(--fill-color);\n",
              "      border-bottom-color: var(--fill-color);\n",
              "    }\n",
              "    90% {\n",
              "      border-color: transparent;\n",
              "      border-bottom-color: var(--fill-color);\n",
              "    }\n",
              "  }\n",
              "</style>\n",
              "\n",
              "      <script>\n",
              "        async function quickchart(key) {\n",
              "          const quickchartButtonEl =\n",
              "            document.querySelector('#' + key + ' button');\n",
              "          quickchartButtonEl.disabled = true;  // To prevent multiple clicks.\n",
              "          quickchartButtonEl.classList.add('colab-df-spinner');\n",
              "          try {\n",
              "            const charts = await google.colab.kernel.invokeFunction(\n",
              "                'suggestCharts', [key], {});\n",
              "          } catch (error) {\n",
              "            console.error('Error during call to suggestCharts:', error);\n",
              "          }\n",
              "          quickchartButtonEl.classList.remove('colab-df-spinner');\n",
              "          quickchartButtonEl.classList.add('colab-df-quickchart-complete');\n",
              "        }\n",
              "        (() => {\n",
              "          let quickchartButtonEl =\n",
              "            document.querySelector('#df-979e2b20-10b8-4156-9021-80b5af5eda16 button');\n",
              "          quickchartButtonEl.style.display =\n",
              "            google.colab.kernel.accessAllowed ? 'block' : 'none';\n",
              "        })();\n",
              "      </script>\n",
              "    </div>\n",
              "\n",
              "    </div>\n",
              "  </div>\n"
            ],
            "application/vnd.google.colaboratory.intrinsic+json": {
              "type": "dataframe",
              "variable_name": "df",
              "summary": "{\n  \"name\": \"df\",\n  \"rows\": 227,\n  \"fields\": [\n    {\n      \"column\": \"country\",\n      \"properties\": {\n        \"dtype\": \"string\",\n        \"num_unique_values\": 227,\n        \"samples\": [\n          \"Armenia\",\n          \"Namibia\",\n          \"Bahrain\"\n        ],\n        \"semantic_type\": \"\",\n        \"description\": \"\"\n      }\n    },\n    {\n      \"column\": \"region\",\n      \"properties\": {\n        \"dtype\": \"category\",\n        \"num_unique_values\": 11,\n        \"samples\": [\n          \"SUB-SAHARAN AFRICA\",\n          \"ASIA (EX. NEAR EAST)\",\n          \"NORTHERN AMERICA\"\n        ],\n        \"semantic_type\": \"\",\n        \"description\": \"\"\n      }\n    },\n    {\n      \"column\": \"population\",\n      \"properties\": {\n        \"dtype\": \"number\",\n        \"std\": 117891326,\n        \"min\": 7026,\n        \"max\": 1313973713,\n        \"num_unique_values\": 227,\n        \"samples\": [\n          2976372,\n          2044147,\n          698585\n        ],\n        \"semantic_type\": \"\",\n        \"description\": \"\"\n      }\n    },\n    {\n      \"column\": \"area\",\n      \"properties\": {\n        \"dtype\": \"number\",\n        \"std\": 1790282,\n        \"min\": 2,\n        \"max\": 17075200,\n        \"num_unique_values\": 226,\n        \"samples\": [\n          29800,\n          48845,\n          65200\n        ],\n        \"semantic_type\": \"\",\n        \"description\": \"\"\n      }\n    },\n    {\n      \"column\": \"density\",\n      \"properties\": {\n        \"dtype\": \"number\",\n        \"std\": 1660.185824610408,\n        \"min\": 0.0,\n        \"max\": 16271.5,\n        \"num_unique_values\": 219,\n        \"samples\": [\n          40.8,\n          127.9,\n          40.6\n        ],\n        \"semantic_type\": \"\",\n        \"description\": \"\"\n      }\n    },\n    {\n      \"column\": \"coastline\",\n      \"properties\": {\n        \"dtype\": \"number\",\n        \"std\": 72.28686315156448,\n        \"min\": 0.0,\n        \"max\": 870.66,\n        \"num_unique_values\": 151,\n        \"samples\": [\n          27.97,\n          0.09,\n          140.94\n        ],\n        \"semantic_type\": \"\",\n        \"description\": \"\"\n      }\n    },\n    {\n      \"column\": \"migration\",\n      \"properties\": {\n        \"dtype\": \"number\",\n        \"std\": 4.889269211168734,\n        \"min\": -20.99,\n        \"max\": 23.06,\n        \"num_unique_values\": 157,\n        \"samples\": [\n          10.98,\n          -3.74,\n          0.3\n        ],\n        \"semantic_type\": \"\",\n        \"description\": \"\"\n      }\n    },\n    {\n      \"column\": \"infant_mortality\",\n      \"properties\": {\n        \"dtype\": \"number\",\n        \"std\": 35.389898772640365,\n        \"min\": 2.29,\n        \"max\": 191.19,\n        \"num_unique_values\": 220,\n        \"samples\": [\n          62.4,\n          121.69,\n          56.29\n        ],\n        \"semantic_type\": \"\",\n        \"description\": \"\"\n      }\n    },\n    {\n      \"column\": \"gdp\",\n      \"properties\": {\n        \"dtype\": \"number\",\n        \"std\": 956593553462.0885,\n        \"min\": 12991000.0,\n        \"max\": 11281191327000.0,\n        \"num_unique_values\": 226,\n        \"samples\": [\n          10417302000.0,\n          106463955000.0,\n          40879328400.0\n        ],\n        \"semantic_type\": \"\",\n        \"description\": \"\"\n      }\n    },\n    {\n      \"column\": \"literacy\",\n      \"properties\": {\n        \"dtype\": \"number\",\n        \"std\": 19.72217292062612,\n        \"min\": 17.6,\n        \"max\": 100.0,\n        \"num_unique_values\": 140,\n        \"samples\": [\n          64.6,\n          99.4,\n          47.5\n        ],\n        \"semantic_type\": \"\",\n        \"description\": \"\"\n      }\n    },\n    {\n      \"column\": \"phones\",\n      \"properties\": {\n        \"dtype\": \"number\",\n        \"std\": 227.99182860673983,\n        \"min\": 0.2,\n        \"max\": 1035.6,\n        \"num_unique_values\": 214,\n        \"samples\": [\n          195.7,\n          123.6,\n          405.3\n        ],\n        \"semantic_type\": \"\",\n        \"description\": \"\"\n      }\n    },\n    {\n      \"column\": \"arable\",\n      \"properties\": {\n        \"dtype\": \"number\",\n        \"std\": 13.040402125671061,\n        \"min\": 0.0,\n        \"max\": 62.11,\n        \"num_unique_values\": 203,\n        \"samples\": [\n          2.82,\n          17.55,\n          5.07\n        ],\n        \"semantic_type\": \"\",\n        \"description\": \"\"\n      }\n    },\n    {\n      \"column\": \"crops\",\n      \"properties\": {\n        \"dtype\": \"number\",\n        \"std\": 8.361469744589316,\n        \"min\": 0.0,\n        \"max\": 50.68,\n        \"num_unique_values\": 162,\n        \"samples\": [\n          2.94,\n          0.33,\n          0.21\n        ],\n        \"semantic_type\": \"\",\n        \"description\": \"\"\n      }\n    },\n    {\n      \"column\": \"other\",\n      \"properties\": {\n        \"dtype\": \"number\",\n        \"std\": 16.140834771935456,\n        \"min\": 33.33,\n        \"max\": 100.0,\n        \"num_unique_values\": 209,\n        \"samples\": [\n          58.06,\n          67.22,\n          60.09\n        ],\n        \"semantic_type\": \"\",\n        \"description\": \"\"\n      }\n    },\n    {\n      \"column\": \"climate\",\n      \"properties\": {\n        \"dtype\": \"number\",\n        \"std\": 0.6993968160243126,\n        \"min\": 1.0,\n        \"max\": 4.0,\n        \"num_unique_values\": 6,\n        \"samples\": [\n          1.0,\n          3.0,\n          2.5\n        ],\n        \"semantic_type\": \"\",\n        \"description\": \"\"\n      }\n    },\n    {\n      \"column\": \"birthrate\",\n      \"properties\": {\n        \"dtype\": \"number\",\n        \"std\": 11.176715703593887,\n        \"min\": 7.29,\n        \"max\": 50.73,\n        \"num_unique_values\": 220,\n        \"samples\": [\n          15.43,\n          13.76,\n          22.01\n        ],\n        \"semantic_type\": \"\",\n        \"description\": \"\"\n      }\n    },\n    {\n      \"column\": \"deathrate\",\n      \"properties\": {\n        \"dtype\": \"number\",\n        \"std\": 4.9900261767952285,\n        \"min\": 2.29,\n        \"max\": 29.74,\n        \"num_unique_values\": 201,\n        \"samples\": [\n          6.18,\n          4.14,\n          15.6\n        ],\n        \"semantic_type\": \"\",\n        \"description\": \"\"\n      }\n    },\n    {\n      \"column\": \"agriculture\",\n      \"properties\": {\n        \"dtype\": \"number\",\n        \"std\": 0.14679795353519434,\n        \"min\": 0.0,\n        \"max\": 0.769,\n        \"num_unique_values\": 150,\n        \"samples\": [\n          0.134,\n          0.316,\n          0.035\n        ],\n        \"semantic_type\": \"\",\n        \"description\": \"\"\n      }\n    },\n    {\n      \"column\": \"industry\",\n      \"properties\": {\n        \"dtype\": \"number\",\n        \"std\": 0.13827221882815605,\n        \"min\": 0.02,\n        \"max\": 0.906,\n        \"num_unique_values\": 155,\n        \"samples\": [\n          0.291,\n          0.204,\n          0.17\n        ],\n        \"semantic_type\": \"\",\n        \"description\": \"\"\n      }\n    },\n    {\n      \"column\": \"service\",\n      \"properties\": {\n        \"dtype\": \"number\",\n        \"std\": 0.1658409993223814,\n        \"min\": 0.062,\n        \"max\": 0.954,\n        \"num_unique_values\": 167,\n        \"samples\": [\n          0.927,\n          0.702,\n          0.906\n        ],\n        \"semantic_type\": \"\",\n        \"description\": \"\"\n      }\n    }\n  ]\n}"
            }
          },
          "metadata": {},
          "execution_count": 16
        }
      ],
      "source": [
        "import numpy as np\n",
        "import pandas as pd\n",
        "\n",
        "# Try/Except block to load the data remotely for Google Colab users\n",
        "try:\n",
        "    df = pd.read_csv('../data/world_factbook.csv')\n",
        "except FileNotFoundError:\n",
        "    data_url = 'https://raw.githubusercontent.com/GUC-DM/Summer2025/refs/heads/main/data/world_factbook.csv?token=GHSAT0AAAAAADG2KIMZ3D7P2LTP7IYWUMFG2DI4TPA'\n",
        "    df = pd.read_csv(data_url)\n",
        "df.head()"
      ]
    },
    {
      "cell_type": "markdown",
      "metadata": {
        "id": "s1SMU5F-twqX"
      },
      "source": [
        "_Note: the column names have been simplified for ease of access. The original more descriptive column names are shown below._\n",
        "\n",
        "\\# | Column\n",
        "---|  ------\n",
        "0  | Country\n",
        "1  | Region\n",
        "2  | Population\n",
        "3  | Area (sq. mi.)\n",
        "4  | Pop. Density (per sq. mi.)\n",
        "5  | Coastline (coast/area ratio)\n",
        "6  | Net migration\n",
        "7  | Infant mortality (per 1000 births)\n",
        "8  | GDP (in \\$US)\n",
        "9  | Literacy (\\%)\n",
        "10 | Phones (per 1000)\n",
        "11 | Arable (\\%)\n",
        "12 | Crops (\\%)\n",
        "13 | Other (\\%)\n",
        "14 | Climate\n",
        "15 | Birthrate (per 1000)\n",
        "16 | Deathrate (per 1000)\n",
        "17 | Agriculture (\\%)\n",
        "18 | Industry (\\%)\n",
        "19 | Service (\\%)"
      ]
    },
    {
      "cell_type": "markdown",
      "metadata": {
        "id": "k3Gc6jM0twqY"
      },
      "source": [
        "## Exercise 6\n",
        "\n",
        "Display the top 10 and bottom 10 countries according to their literacy rate"
      ]
    },
    {
      "cell_type": "code",
      "execution_count": 16,
      "metadata": {
        "id": "8vTgx3SXtwqY"
      },
      "outputs": [],
      "source": []
    },
    {
      "cell_type": "markdown",
      "metadata": {
        "id": "avKnvF5ttwqY"
      },
      "source": [
        "## Exercise 7"
      ]
    },
    {
      "cell_type": "markdown",
      "metadata": {
        "id": "Wqpcg_7TtwqY"
      },
      "source": [
        "Which country has more phones than citizens?"
      ]
    },
    {
      "cell_type": "code",
      "execution_count": 16,
      "metadata": {
        "id": "lDpEyfLftwqY"
      },
      "outputs": [],
      "source": []
    },
    {
      "cell_type": "markdown",
      "metadata": {
        "id": "QlhnPBhktwqY"
      },
      "source": [
        "## Exercise 8\n"
      ]
    },
    {
      "cell_type": "markdown",
      "metadata": {
        "id": "nGdBXZEatwqY"
      },
      "source": [
        "Display the total world population and GDP by applying `sum()` on the population and GDP column"
      ]
    },
    {
      "cell_type": "code",
      "execution_count": 16,
      "metadata": {
        "id": "pz0qt6tGtwqY"
      },
      "outputs": [],
      "source": []
    },
    {
      "cell_type": "markdown",
      "metadata": {
        "id": "s9JblenStwqY"
      },
      "source": [
        "## Exercise 9\n"
      ]
    },
    {
      "cell_type": "markdown",
      "metadata": {
        "id": "Q-BTNoXUtwqY"
      },
      "source": [
        "Display the total area of each region. Which region occupies the most area?"
      ]
    },
    {
      "cell_type": "code",
      "execution_count": 16,
      "metadata": {
        "id": "QwK0hlECtwqZ"
      },
      "outputs": [],
      "source": []
    },
    {
      "cell_type": "markdown",
      "metadata": {
        "id": "URqyTTLntwqZ"
      },
      "source": [
        "## Exercise 10\n"
      ]
    },
    {
      "cell_type": "markdown",
      "metadata": {
        "id": "_FJbHZwgtwqZ"
      },
      "source": [
        "Create a new column called `net_pop_increase` based on `birthrate` - `deathrate`. Which countries had the largest increase? Which had the lowest increase?"
      ]
    },
    {
      "cell_type": "code",
      "execution_count": 16,
      "metadata": {
        "id": "7Hk7YpiDtwqZ"
      },
      "outputs": [],
      "source": []
    },
    {
      "cell_type": "markdown",
      "metadata": {
        "id": "bI78Nbp8twqZ"
      },
      "source": [
        "## Exercise 11"
      ]
    },
    {
      "cell_type": "markdown",
      "metadata": {
        "id": "Zwpg9YENtwqZ"
      },
      "source": [
        "Aggregate the `net_pop_increase` column you calculated in exercise 5 per region. Which region had the largest total increase? Which region had the lowest total increase?"
      ]
    },
    {
      "cell_type": "code",
      "execution_count": 16,
      "metadata": {
        "id": "wtdZoe49twqZ"
      },
      "outputs": [],
      "source": []
    }
  ],
  "metadata": {
    "kernelspec": {
      "display_name": "Python 3.9.13 ('base')",
      "language": "python",
      "name": "python3"
    },
    "language_info": {
      "codemirror_mode": {
        "name": "ipython",
        "version": 3
      },
      "file_extension": ".py",
      "mimetype": "text/x-python",
      "name": "python",
      "nbconvert_exporter": "python",
      "pygments_lexer": "ipython3",
      "version": "3.9.13"
    },
    "vscode": {
      "interpreter": {
        "hash": "806d670c7bb2cbe074590fc196bfaf591c17bcc1c3e5afa2a6f71dcbde559284"
      }
    },
    "colab": {
      "provenance": []
    }
  },
  "nbformat": 4,
  "nbformat_minor": 0
}