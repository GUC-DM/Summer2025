{
  "cells": [
    {
      "cell_type": "markdown",
      "metadata": {
        "id": "-Bu0fas7sYxa"
      },
      "source": [
        "# Lab 7 Exercises Solution - Logistic Regression, K-NN & Naive Bayes Classifier\n",
        "\n"
      ]
    },
    {
      "cell_type": "markdown",
      "metadata": {
        "id": "G954b8ADsYxc"
      },
      "source": [
        "The US adult income dataset was extracted by Barry Becker from the 1994 US Census Database. The data set consists of anonymous information such as occupation, age, native country, race, capital gain, capital loss, education, work class and more. Each row is labelled as either having a salary greater than \">50K\" or \"<=50K\".\n",
        "\n",
        "The goal here is to train the logistic regression, K-NN & Naive Bayes classifiers on the training dataset to predict the column `income_bracket` which has two possible values \">50K\" and \"<=50K\" and compare the accuracy of each classifier with the test dataset.\n",
        "\n",
        "Note that the dataset is made up of categorical and continuous features. It also contains missing values\n",
        "The categorical columns are: `workclass, education, marital_status, occupation, relationship, race, gender, native_country`\n",
        "\n",
        "The continuous columns are: `age, education_num, capital_gain, capital_loss, hours_per_week`"
      ]
    },
    {
      "cell_type": "markdown",
      "metadata": {
        "id": "4U74EgYKsYxc"
      },
      "source": [
        "**Dataset columns**\n",
        "\n",
        "```\n",
        "age: continuous.\n",
        "\n",
        "workclass: Private, Self-emp-not-inc, Self-emp-inc, Federal-gov, Local-gov, State-gov, Without-pay, Never-worked.\n",
        "\n",
        "fnlwgt: continuous.\n",
        "\n",
        "education: Bachelors, Some-college, 11th, HS-grad, Prof-school, Assoc-acdm, Assoc-voc, 9th, 7th-8th, 12th, Masters, 1st-4th, 10th, Doctorate, 5th-6th, Preschool.\n",
        "\n",
        "education-num: continuous.\n",
        "\n",
        "marital-status: Married-civ-spouse, Divorced, Never-married, Separated, Widowed, Married-spouse-absent, Married-AF-spouse.\n",
        "\n",
        "occupation: Tech-support, Craft-repair, Other-service, Sales, Exec-managerial, Prof-specialty, Handlers-cleaners, Machine-op-inspct, Adm-clerical, Farming-fishing, Transport-moving, Priv-house-serv, Protective-serv, Armed-Forces.\n",
        "\n",
        "relationship: Wife, Own-child, Husband, Not-in-family, Other-relative, Unmarried.\n",
        "\n",
        "race: White, Asian-Pac-Islander, Amer-Indian-Eskimo, Other, Black.\n",
        "\n",
        "sex: Female, Male.\n",
        "\n",
        "capital-gain: continuous.\n",
        "\n",
        "capital-loss: continuous.\n",
        "\n",
        "hours-per-week: continuous.\n",
        "\n",
        "native-country: United-States, Cambodia, England, Puerto-Rico, Canada, Germany, Outlying-US(Guam-USVI-etc), India, Japan, Greece, South, China, Cuba, Iran, Honduras, Philippines, Italy, Poland, Jamaica, Vietnam, Mexico, Portugal, Ireland, France, Dominican-Republic, Laos, Ecuador, Taiwan, Haiti, Columbia, Hungary, Guatemala, Nicaragua, Scotland, Thailand, Yugoslavia, El-Salvador, Trinadad&Tobago, Peru, Hong, Holand-Netherlands.\n",
        "\n",
        "income-bracket: <=50k, >50k\n",
        "```\n",
        "\n",
        "*Note: for the purposes of this exercise, fnlwgt (final weight, a value assigned by the census bureau as part of their sampling methodology of census data across the 51 states) can be dropped for simplicity*"
      ]
    },
    {
      "cell_type": "markdown",
      "metadata": {
        "id": "0ryWwIqHIHP-"
      },
      "source": [
        "**In this exercise we are going to use `%timeit` magic command to compare the runtime of the different algorithms together. We are going to use it once while building the model and once while scoring the model**\n",
        "\n",
        "The `%timeit` magic command is used measure the execution time of a piece of code. In order to use it, write the command just before the relevant of code, in the same line to measure the execution time.\n",
        "\n",
        "It returns the mean and standard deviation of code run time calculated over `r` number of runs and `n` number of loops within each run (*it may return different results for each time you run the cell*).\n",
        "\n",
        "<br/>\n",
        "<br/>\n",
        "\n",
        "Timeit Function: [Official Python Documentation - timeit function](https://docs.python.org/3/library/timeit.html)\n",
        "\n",
        "%timeit Magic Command - Ipython: [ipython - timeit magic command](https://ipython.readthedocs.io/en/stable/interactive/magics.html)\n",
        "\n",
        "Extra Links on %timeit Magic Command: [nkme - timeit magic command](https://note.nkmk.me/en/python-timeit-measure)"
      ]
    },
    {
      "cell_type": "markdown",
      "metadata": {
        "id": "c9Tcfn79IHP-"
      },
      "source": [
        "**Example**"
      ]
    },
    {
      "cell_type": "code",
      "execution_count": 1,
      "metadata": {
        "id": "0lgBpHm6IHP-",
        "outputId": "105a2d5e-a5f0-4963-96fd-c569588c6246",
        "colab": {
          "base_uri": "https://localhost:8080/"
        }
      },
      "outputs": [
        {
          "output_type": "stream",
          "name": "stdout",
          "text": [
            "1.39 µs ± 306 ns per loop (mean ± std. dev. of 7 runs, 100000 loops each)\n"
          ]
        }
      ],
      "source": [
        "%timeit [num for num in range(20)]"
      ]
    },
    {
      "cell_type": "markdown",
      "metadata": {
        "id": "WeUExkmIIHQA"
      },
      "source": [
        "In the above example, the list comprehension was evaluated for 7 runs with each run having 100 thousand loops.\n",
        "\n",
        "This took an average of 1.39 microseconds with a standard deviation of 3.06 microseconds (*it may return different results for each time you run the cell*)."
      ]
    },
    {
      "cell_type": "code",
      "execution_count": 2,
      "metadata": {
        "id": "yc0nQOhusYxd"
      },
      "outputs": [],
      "source": [
        "import pandas as pd\n",
        "import numpy as np\n",
        "import matplotlib.pyplot as plt\n",
        "import seaborn as sns\n",
        "\n",
        "%matplotlib inline\n",
        "#plt.style.use(\"seaborn-v0_8\")\n",
        "#when using colab\n",
        "# Set the style for plots using the updated seaborn style\n",
        "plt.style.use(\"seaborn-v0_8\") # Changed from 'seaborn' to 'seaborn-v0_8'"
      ]
    },
    {
      "cell_type": "code",
      "execution_count": 3,
      "metadata": {
        "id": "bnKGonnVIHQA"
      },
      "outputs": [],
      "source": [
        "# Suppress warnings\n",
        "import warnings\n",
        "warnings.filterwarnings('ignore')"
      ]
    },
    {
      "cell_type": "markdown",
      "metadata": {
        "id": "Z33OV2_hsYxe"
      },
      "source": [
        "## Dataset Loading & Cleaning"
      ]
    },
    {
      "cell_type": "markdown",
      "metadata": {
        "id": "0hT42Q4SsYxe"
      },
      "source": [
        "**Dataset Loading**\n",
        "\n",
        "Make sure the datasets have been loaded correctly. You may want to have a look at the [pd.read_csv documentation](https://pandas.pydata.org/pandas-docs/stable/reference/api/pandas.read_csv.html) to resolve dataset loading issues."
      ]
    },
    {
      "cell_type": "code",
      "execution_count": 4,
      "metadata": {
        "colab": {
          "base_uri": "https://localhost:8080/",
          "height": 206
        },
        "id": "KFwbU79tsYxf",
        "outputId": "e1ad8216-2c0c-4f5e-c350-bfbacd274fb8"
      },
      "outputs": [
        {
          "output_type": "execute_result",
          "data": {
            "text/plain": [
              "   age         workclass  fnlwgt  education  education_num  \\\n",
              "0   39         State-gov   77516  Bachelors             13   \n",
              "1   50  Self-emp-not-inc   83311  Bachelors             13   \n",
              "2   38           Private  215646    HS-grad              9   \n",
              "3   53           Private  234721       11th              7   \n",
              "4   28           Private  338409  Bachelors             13   \n",
              "\n",
              "       marital_status         occupation   relationship   race     sex  \\\n",
              "0       Never-married       Adm-clerical  Not-in-family  White    Male   \n",
              "1  Married-civ-spouse    Exec-managerial        Husband  White    Male   \n",
              "2            Divorced  Handlers-cleaners  Not-in-family  White    Male   \n",
              "3  Married-civ-spouse  Handlers-cleaners        Husband  Black    Male   \n",
              "4  Married-civ-spouse     Prof-specialty           Wife  Black  Female   \n",
              "\n",
              "   capital_gain  capital_loss  hours_per_week native_country income_bracket  \n",
              "0          2174             0              40  United-States          <=50K  \n",
              "1             0             0              13  United-States          <=50K  \n",
              "2             0             0              40  United-States          <=50K  \n",
              "3             0             0              40  United-States          <=50K  \n",
              "4             0             0              40           Cuba          <=50K  "
            ],
            "text/html": [
              "\n",
              "  <div id=\"df-a5cc17c7-8d09-46eb-9b41-8ec294fd8c5d\" class=\"colab-df-container\">\n",
              "    <div>\n",
              "<style scoped>\n",
              "    .dataframe tbody tr th:only-of-type {\n",
              "        vertical-align: middle;\n",
              "    }\n",
              "\n",
              "    .dataframe tbody tr th {\n",
              "        vertical-align: top;\n",
              "    }\n",
              "\n",
              "    .dataframe thead th {\n",
              "        text-align: right;\n",
              "    }\n",
              "</style>\n",
              "<table border=\"1\" class=\"dataframe\">\n",
              "  <thead>\n",
              "    <tr style=\"text-align: right;\">\n",
              "      <th></th>\n",
              "      <th>age</th>\n",
              "      <th>workclass</th>\n",
              "      <th>fnlwgt</th>\n",
              "      <th>education</th>\n",
              "      <th>education_num</th>\n",
              "      <th>marital_status</th>\n",
              "      <th>occupation</th>\n",
              "      <th>relationship</th>\n",
              "      <th>race</th>\n",
              "      <th>sex</th>\n",
              "      <th>capital_gain</th>\n",
              "      <th>capital_loss</th>\n",
              "      <th>hours_per_week</th>\n",
              "      <th>native_country</th>\n",
              "      <th>income_bracket</th>\n",
              "    </tr>\n",
              "  </thead>\n",
              "  <tbody>\n",
              "    <tr>\n",
              "      <th>0</th>\n",
              "      <td>39</td>\n",
              "      <td>State-gov</td>\n",
              "      <td>77516</td>\n",
              "      <td>Bachelors</td>\n",
              "      <td>13</td>\n",
              "      <td>Never-married</td>\n",
              "      <td>Adm-clerical</td>\n",
              "      <td>Not-in-family</td>\n",
              "      <td>White</td>\n",
              "      <td>Male</td>\n",
              "      <td>2174</td>\n",
              "      <td>0</td>\n",
              "      <td>40</td>\n",
              "      <td>United-States</td>\n",
              "      <td>&lt;=50K</td>\n",
              "    </tr>\n",
              "    <tr>\n",
              "      <th>1</th>\n",
              "      <td>50</td>\n",
              "      <td>Self-emp-not-inc</td>\n",
              "      <td>83311</td>\n",
              "      <td>Bachelors</td>\n",
              "      <td>13</td>\n",
              "      <td>Married-civ-spouse</td>\n",
              "      <td>Exec-managerial</td>\n",
              "      <td>Husband</td>\n",
              "      <td>White</td>\n",
              "      <td>Male</td>\n",
              "      <td>0</td>\n",
              "      <td>0</td>\n",
              "      <td>13</td>\n",
              "      <td>United-States</td>\n",
              "      <td>&lt;=50K</td>\n",
              "    </tr>\n",
              "    <tr>\n",
              "      <th>2</th>\n",
              "      <td>38</td>\n",
              "      <td>Private</td>\n",
              "      <td>215646</td>\n",
              "      <td>HS-grad</td>\n",
              "      <td>9</td>\n",
              "      <td>Divorced</td>\n",
              "      <td>Handlers-cleaners</td>\n",
              "      <td>Not-in-family</td>\n",
              "      <td>White</td>\n",
              "      <td>Male</td>\n",
              "      <td>0</td>\n",
              "      <td>0</td>\n",
              "      <td>40</td>\n",
              "      <td>United-States</td>\n",
              "      <td>&lt;=50K</td>\n",
              "    </tr>\n",
              "    <tr>\n",
              "      <th>3</th>\n",
              "      <td>53</td>\n",
              "      <td>Private</td>\n",
              "      <td>234721</td>\n",
              "      <td>11th</td>\n",
              "      <td>7</td>\n",
              "      <td>Married-civ-spouse</td>\n",
              "      <td>Handlers-cleaners</td>\n",
              "      <td>Husband</td>\n",
              "      <td>Black</td>\n",
              "      <td>Male</td>\n",
              "      <td>0</td>\n",
              "      <td>0</td>\n",
              "      <td>40</td>\n",
              "      <td>United-States</td>\n",
              "      <td>&lt;=50K</td>\n",
              "    </tr>\n",
              "    <tr>\n",
              "      <th>4</th>\n",
              "      <td>28</td>\n",
              "      <td>Private</td>\n",
              "      <td>338409</td>\n",
              "      <td>Bachelors</td>\n",
              "      <td>13</td>\n",
              "      <td>Married-civ-spouse</td>\n",
              "      <td>Prof-specialty</td>\n",
              "      <td>Wife</td>\n",
              "      <td>Black</td>\n",
              "      <td>Female</td>\n",
              "      <td>0</td>\n",
              "      <td>0</td>\n",
              "      <td>40</td>\n",
              "      <td>Cuba</td>\n",
              "      <td>&lt;=50K</td>\n",
              "    </tr>\n",
              "  </tbody>\n",
              "</table>\n",
              "</div>\n",
              "    <div class=\"colab-df-buttons\">\n",
              "\n",
              "  <div class=\"colab-df-container\">\n",
              "    <button class=\"colab-df-convert\" onclick=\"convertToInteractive('df-a5cc17c7-8d09-46eb-9b41-8ec294fd8c5d')\"\n",
              "            title=\"Convert this dataframe to an interactive table.\"\n",
              "            style=\"display:none;\">\n",
              "\n",
              "  <svg xmlns=\"http://www.w3.org/2000/svg\" height=\"24px\" viewBox=\"0 -960 960 960\">\n",
              "    <path d=\"M120-120v-720h720v720H120Zm60-500h600v-160H180v160Zm220 220h160v-160H400v160Zm0 220h160v-160H400v160ZM180-400h160v-160H180v160Zm440 0h160v-160H620v160ZM180-180h160v-160H180v160Zm440 0h160v-160H620v160Z\"/>\n",
              "  </svg>\n",
              "    </button>\n",
              "\n",
              "  <style>\n",
              "    .colab-df-container {\n",
              "      display:flex;\n",
              "      gap: 12px;\n",
              "    }\n",
              "\n",
              "    .colab-df-convert {\n",
              "      background-color: #E8F0FE;\n",
              "      border: none;\n",
              "      border-radius: 50%;\n",
              "      cursor: pointer;\n",
              "      display: none;\n",
              "      fill: #1967D2;\n",
              "      height: 32px;\n",
              "      padding: 0 0 0 0;\n",
              "      width: 32px;\n",
              "    }\n",
              "\n",
              "    .colab-df-convert:hover {\n",
              "      background-color: #E2EBFA;\n",
              "      box-shadow: 0px 1px 2px rgba(60, 64, 67, 0.3), 0px 1px 3px 1px rgba(60, 64, 67, 0.15);\n",
              "      fill: #174EA6;\n",
              "    }\n",
              "\n",
              "    .colab-df-buttons div {\n",
              "      margin-bottom: 4px;\n",
              "    }\n",
              "\n",
              "    [theme=dark] .colab-df-convert {\n",
              "      background-color: #3B4455;\n",
              "      fill: #D2E3FC;\n",
              "    }\n",
              "\n",
              "    [theme=dark] .colab-df-convert:hover {\n",
              "      background-color: #434B5C;\n",
              "      box-shadow: 0px 1px 3px 1px rgba(0, 0, 0, 0.15);\n",
              "      filter: drop-shadow(0px 1px 2px rgba(0, 0, 0, 0.3));\n",
              "      fill: #FFFFFF;\n",
              "    }\n",
              "  </style>\n",
              "\n",
              "    <script>\n",
              "      const buttonEl =\n",
              "        document.querySelector('#df-a5cc17c7-8d09-46eb-9b41-8ec294fd8c5d button.colab-df-convert');\n",
              "      buttonEl.style.display =\n",
              "        google.colab.kernel.accessAllowed ? 'block' : 'none';\n",
              "\n",
              "      async function convertToInteractive(key) {\n",
              "        const element = document.querySelector('#df-a5cc17c7-8d09-46eb-9b41-8ec294fd8c5d');\n",
              "        const dataTable =\n",
              "          await google.colab.kernel.invokeFunction('convertToInteractive',\n",
              "                                                    [key], {});\n",
              "        if (!dataTable) return;\n",
              "\n",
              "        const docLinkHtml = 'Like what you see? Visit the ' +\n",
              "          '<a target=\"_blank\" href=https://colab.research.google.com/notebooks/data_table.ipynb>data table notebook</a>'\n",
              "          + ' to learn more about interactive tables.';\n",
              "        element.innerHTML = '';\n",
              "        dataTable['output_type'] = 'display_data';\n",
              "        await google.colab.output.renderOutput(dataTable, element);\n",
              "        const docLink = document.createElement('div');\n",
              "        docLink.innerHTML = docLinkHtml;\n",
              "        element.appendChild(docLink);\n",
              "      }\n",
              "    </script>\n",
              "  </div>\n",
              "\n",
              "\n",
              "    <div id=\"df-42a7e93a-ac07-46d0-9f67-302023a8a357\">\n",
              "      <button class=\"colab-df-quickchart\" onclick=\"quickchart('df-42a7e93a-ac07-46d0-9f67-302023a8a357')\"\n",
              "                title=\"Suggest charts\"\n",
              "                style=\"display:none;\">\n",
              "\n",
              "<svg xmlns=\"http://www.w3.org/2000/svg\" height=\"24px\"viewBox=\"0 0 24 24\"\n",
              "     width=\"24px\">\n",
              "    <g>\n",
              "        <path d=\"M19 3H5c-1.1 0-2 .9-2 2v14c0 1.1.9 2 2 2h14c1.1 0 2-.9 2-2V5c0-1.1-.9-2-2-2zM9 17H7v-7h2v7zm4 0h-2V7h2v10zm4 0h-2v-4h2v4z\"/>\n",
              "    </g>\n",
              "</svg>\n",
              "      </button>\n",
              "\n",
              "<style>\n",
              "  .colab-df-quickchart {\n",
              "      --bg-color: #E8F0FE;\n",
              "      --fill-color: #1967D2;\n",
              "      --hover-bg-color: #E2EBFA;\n",
              "      --hover-fill-color: #174EA6;\n",
              "      --disabled-fill-color: #AAA;\n",
              "      --disabled-bg-color: #DDD;\n",
              "  }\n",
              "\n",
              "  [theme=dark] .colab-df-quickchart {\n",
              "      --bg-color: #3B4455;\n",
              "      --fill-color: #D2E3FC;\n",
              "      --hover-bg-color: #434B5C;\n",
              "      --hover-fill-color: #FFFFFF;\n",
              "      --disabled-bg-color: #3B4455;\n",
              "      --disabled-fill-color: #666;\n",
              "  }\n",
              "\n",
              "  .colab-df-quickchart {\n",
              "    background-color: var(--bg-color);\n",
              "    border: none;\n",
              "    border-radius: 50%;\n",
              "    cursor: pointer;\n",
              "    display: none;\n",
              "    fill: var(--fill-color);\n",
              "    height: 32px;\n",
              "    padding: 0;\n",
              "    width: 32px;\n",
              "  }\n",
              "\n",
              "  .colab-df-quickchart:hover {\n",
              "    background-color: var(--hover-bg-color);\n",
              "    box-shadow: 0 1px 2px rgba(60, 64, 67, 0.3), 0 1px 3px 1px rgba(60, 64, 67, 0.15);\n",
              "    fill: var(--button-hover-fill-color);\n",
              "  }\n",
              "\n",
              "  .colab-df-quickchart-complete:disabled,\n",
              "  .colab-df-quickchart-complete:disabled:hover {\n",
              "    background-color: var(--disabled-bg-color);\n",
              "    fill: var(--disabled-fill-color);\n",
              "    box-shadow: none;\n",
              "  }\n",
              "\n",
              "  .colab-df-spinner {\n",
              "    border: 2px solid var(--fill-color);\n",
              "    border-color: transparent;\n",
              "    border-bottom-color: var(--fill-color);\n",
              "    animation:\n",
              "      spin 1s steps(1) infinite;\n",
              "  }\n",
              "\n",
              "  @keyframes spin {\n",
              "    0% {\n",
              "      border-color: transparent;\n",
              "      border-bottom-color: var(--fill-color);\n",
              "      border-left-color: var(--fill-color);\n",
              "    }\n",
              "    20% {\n",
              "      border-color: transparent;\n",
              "      border-left-color: var(--fill-color);\n",
              "      border-top-color: var(--fill-color);\n",
              "    }\n",
              "    30% {\n",
              "      border-color: transparent;\n",
              "      border-left-color: var(--fill-color);\n",
              "      border-top-color: var(--fill-color);\n",
              "      border-right-color: var(--fill-color);\n",
              "    }\n",
              "    40% {\n",
              "      border-color: transparent;\n",
              "      border-right-color: var(--fill-color);\n",
              "      border-top-color: var(--fill-color);\n",
              "    }\n",
              "    60% {\n",
              "      border-color: transparent;\n",
              "      border-right-color: var(--fill-color);\n",
              "    }\n",
              "    80% {\n",
              "      border-color: transparent;\n",
              "      border-right-color: var(--fill-color);\n",
              "      border-bottom-color: var(--fill-color);\n",
              "    }\n",
              "    90% {\n",
              "      border-color: transparent;\n",
              "      border-bottom-color: var(--fill-color);\n",
              "    }\n",
              "  }\n",
              "</style>\n",
              "\n",
              "      <script>\n",
              "        async function quickchart(key) {\n",
              "          const quickchartButtonEl =\n",
              "            document.querySelector('#' + key + ' button');\n",
              "          quickchartButtonEl.disabled = true;  // To prevent multiple clicks.\n",
              "          quickchartButtonEl.classList.add('colab-df-spinner');\n",
              "          try {\n",
              "            const charts = await google.colab.kernel.invokeFunction(\n",
              "                'suggestCharts', [key], {});\n",
              "          } catch (error) {\n",
              "            console.error('Error during call to suggestCharts:', error);\n",
              "          }\n",
              "          quickchartButtonEl.classList.remove('colab-df-spinner');\n",
              "          quickchartButtonEl.classList.add('colab-df-quickchart-complete');\n",
              "        }\n",
              "        (() => {\n",
              "          let quickchartButtonEl =\n",
              "            document.querySelector('#df-42a7e93a-ac07-46d0-9f67-302023a8a357 button');\n",
              "          quickchartButtonEl.style.display =\n",
              "            google.colab.kernel.accessAllowed ? 'block' : 'none';\n",
              "        })();\n",
              "      </script>\n",
              "    </div>\n",
              "\n",
              "    </div>\n",
              "  </div>\n"
            ],
            "application/vnd.google.colaboratory.intrinsic+json": {
              "type": "dataframe",
              "variable_name": "df",
              "summary": "{\n  \"name\": \"df\",\n  \"rows\": 48842,\n  \"fields\": [\n    {\n      \"column\": \"age\",\n      \"properties\": {\n        \"dtype\": \"number\",\n        \"std\": 13,\n        \"min\": 17,\n        \"max\": 90,\n        \"num_unique_values\": 74,\n        \"samples\": [\n          28,\n          73,\n          35\n        ],\n        \"semantic_type\": \"\",\n        \"description\": \"\"\n      }\n    },\n    {\n      \"column\": \"workclass\",\n      \"properties\": {\n        \"dtype\": \"category\",\n        \"num_unique_values\": 9,\n        \"samples\": [\n          \"Without-pay\",\n          \"Self-emp-not-inc\",\n          \"?\"\n        ],\n        \"semantic_type\": \"\",\n        \"description\": \"\"\n      }\n    },\n    {\n      \"column\": \"fnlwgt\",\n      \"properties\": {\n        \"dtype\": \"number\",\n        \"std\": 105604,\n        \"min\": 12285,\n        \"max\": 1490400,\n        \"num_unique_values\": 28523,\n        \"samples\": [\n          159077,\n          199450,\n          181773\n        ],\n        \"semantic_type\": \"\",\n        \"description\": \"\"\n      }\n    },\n    {\n      \"column\": \"education\",\n      \"properties\": {\n        \"dtype\": \"category\",\n        \"num_unique_values\": 16,\n        \"samples\": [\n          \"Bachelors\",\n          \"HS-grad\",\n          \"Some-college\"\n        ],\n        \"semantic_type\": \"\",\n        \"description\": \"\"\n      }\n    },\n    {\n      \"column\": \"education_num\",\n      \"properties\": {\n        \"dtype\": \"number\",\n        \"std\": 2,\n        \"min\": 1,\n        \"max\": 16,\n        \"num_unique_values\": 16,\n        \"samples\": [\n          13,\n          9,\n          10\n        ],\n        \"semantic_type\": \"\",\n        \"description\": \"\"\n      }\n    },\n    {\n      \"column\": \"marital_status\",\n      \"properties\": {\n        \"dtype\": \"category\",\n        \"num_unique_values\": 7,\n        \"samples\": [\n          \"Never-married\",\n          \"Married-civ-spouse\",\n          \"Married-AF-spouse\"\n        ],\n        \"semantic_type\": \"\",\n        \"description\": \"\"\n      }\n    },\n    {\n      \"column\": \"occupation\",\n      \"properties\": {\n        \"dtype\": \"category\",\n        \"num_unique_values\": 15,\n        \"samples\": [\n          \"Machine-op-inspct\",\n          \"?\",\n          \"Adm-clerical\"\n        ],\n        \"semantic_type\": \"\",\n        \"description\": \"\"\n      }\n    },\n    {\n      \"column\": \"relationship\",\n      \"properties\": {\n        \"dtype\": \"category\",\n        \"num_unique_values\": 6,\n        \"samples\": [\n          \"Not-in-family\",\n          \"Husband\",\n          \"Other-relative\"\n        ],\n        \"semantic_type\": \"\",\n        \"description\": \"\"\n      }\n    },\n    {\n      \"column\": \"race\",\n      \"properties\": {\n        \"dtype\": \"category\",\n        \"num_unique_values\": 5,\n        \"samples\": [\n          \"Black\",\n          \"Other\",\n          \"Asian-Pac-Islander\"\n        ],\n        \"semantic_type\": \"\",\n        \"description\": \"\"\n      }\n    },\n    {\n      \"column\": \"sex\",\n      \"properties\": {\n        \"dtype\": \"category\",\n        \"num_unique_values\": 2,\n        \"samples\": [\n          \"Female\",\n          \"Male\"\n        ],\n        \"semantic_type\": \"\",\n        \"description\": \"\"\n      }\n    },\n    {\n      \"column\": \"capital_gain\",\n      \"properties\": {\n        \"dtype\": \"number\",\n        \"std\": 7452,\n        \"min\": 0,\n        \"max\": 99999,\n        \"num_unique_values\": 123,\n        \"samples\": [\n          2176,\n          10520\n        ],\n        \"semantic_type\": \"\",\n        \"description\": \"\"\n      }\n    },\n    {\n      \"column\": \"capital_loss\",\n      \"properties\": {\n        \"dtype\": \"number\",\n        \"std\": 403,\n        \"min\": 0,\n        \"max\": 4356,\n        \"num_unique_values\": 99,\n        \"samples\": [\n          1974,\n          419\n        ],\n        \"semantic_type\": \"\",\n        \"description\": \"\"\n      }\n    },\n    {\n      \"column\": \"hours_per_week\",\n      \"properties\": {\n        \"dtype\": \"number\",\n        \"std\": 12,\n        \"min\": 1,\n        \"max\": 99,\n        \"num_unique_values\": 96,\n        \"samples\": [\n          97,\n          88\n        ],\n        \"semantic_type\": \"\",\n        \"description\": \"\"\n      }\n    },\n    {\n      \"column\": \"native_country\",\n      \"properties\": {\n        \"dtype\": \"category\",\n        \"num_unique_values\": 42,\n        \"samples\": [\n          \"El-Salvador\",\n          \"Philippines\"\n        ],\n        \"semantic_type\": \"\",\n        \"description\": \"\"\n      }\n    },\n    {\n      \"column\": \"income_bracket\",\n      \"properties\": {\n        \"dtype\": \"category\",\n        \"num_unique_values\": 4,\n        \"samples\": [\n          \">50K\",\n          \">50K.\"\n        ],\n        \"semantic_type\": \"\",\n        \"description\": \"\"\n      }\n    }\n  ]\n}"
            }
          },
          "metadata": {},
          "execution_count": 4
        }
      ],
      "source": [
        "try:\n",
        "    df = pd.read_csv('census_income.csv')\n",
        "except:\n",
        "    df = pd.read_csv('https://raw.githubusercontent.com/GUC-DM/Summer2025/main/data/census_income.csv')\n",
        "df.head()"
      ]
    },
    {
      "cell_type": "code",
      "execution_count": 5,
      "metadata": {
        "colab": {
          "base_uri": "https://localhost:8080/"
        },
        "id": "IK5IsJdX8TDu",
        "outputId": "036c331b-082f-4339-c69f-2b33fc975cc9"
      },
      "outputs": [
        {
          "output_type": "stream",
          "name": "stdout",
          "text": [
            "<class 'pandas.core.frame.DataFrame'>\n",
            "RangeIndex: 48842 entries, 0 to 48841\n",
            "Data columns (total 15 columns):\n",
            " #   Column          Non-Null Count  Dtype \n",
            "---  ------          --------------  ----- \n",
            " 0   age             48842 non-null  int64 \n",
            " 1   workclass       48842 non-null  object\n",
            " 2   fnlwgt          48842 non-null  int64 \n",
            " 3   education       48842 non-null  object\n",
            " 4   education_num   48842 non-null  int64 \n",
            " 5   marital_status  48842 non-null  object\n",
            " 6   occupation      48842 non-null  object\n",
            " 7   relationship    48842 non-null  object\n",
            " 8   race            48842 non-null  object\n",
            " 9   sex             48842 non-null  object\n",
            " 10  capital_gain    48842 non-null  int64 \n",
            " 11  capital_loss    48842 non-null  int64 \n",
            " 12  hours_per_week  48842 non-null  int64 \n",
            " 13  native_country  48842 non-null  object\n",
            " 14  income_bracket  48842 non-null  object\n",
            "dtypes: int64(6), object(9)\n",
            "memory usage: 5.6+ MB\n"
          ]
        }
      ],
      "source": [
        "df.info()"
      ]
    },
    {
      "cell_type": "markdown",
      "metadata": {
        "id": "BIQ0HFwQsYxf"
      },
      "source": [
        "**Check the unique values for each categorical attribute**"
      ]
    },
    {
      "cell_type": "code",
      "execution_count": 6,
      "metadata": {
        "colab": {
          "base_uri": "https://localhost:8080/"
        },
        "id": "26wBad7AsYxg",
        "outputId": "6ef53954-fa98-4400-c8f1-920ae8a9abb5"
      },
      "outputs": [
        {
          "output_type": "stream",
          "name": "stdout",
          "text": [
            "age: [39 50 38 53 28 37 49 52 31 42 30 23 32 40 34 25 43 54 35 59 56 19 20 45\n",
            " 22 48 21 24 57 44 41 29 18 47 46 36 79 27 67 33 76 17 55 61 70 64 71 68\n",
            " 66 51 58 26 60 90 75 65 77 62 63 80 72 74 69 73 81 78 88 82 83 84 85 86\n",
            " 87 89]\n",
            "\n",
            "workclass: ['State-gov' 'Self-emp-not-inc' 'Private' 'Federal-gov' 'Local-gov' '?'\n",
            " 'Self-emp-inc' 'Without-pay' 'Never-worked']\n",
            "\n",
            "fnlwgt: [ 77516  83311 215646 ... 173449  89686 350977]\n",
            "\n",
            "education: ['Bachelors' 'HS-grad' '11th' 'Masters' '9th' 'Some-college' 'Assoc-acdm'\n",
            " 'Assoc-voc' '7th-8th' 'Doctorate' 'Prof-school' '5th-6th' '10th'\n",
            " '1st-4th' 'Preschool' '12th']\n",
            "\n",
            "education_num: [13  9  7 14  5 10 12 11  4 16 15  3  6  2  1  8]\n",
            "\n",
            "marital_status: ['Never-married' 'Married-civ-spouse' 'Divorced' 'Married-spouse-absent'\n",
            " 'Separated' 'Married-AF-spouse' 'Widowed']\n",
            "\n",
            "occupation: ['Adm-clerical' 'Exec-managerial' 'Handlers-cleaners' 'Prof-specialty'\n",
            " 'Other-service' 'Sales' 'Craft-repair' 'Transport-moving'\n",
            " 'Farming-fishing' 'Machine-op-inspct' 'Tech-support' '?'\n",
            " 'Protective-serv' 'Armed-Forces' 'Priv-house-serv']\n",
            "\n",
            "relationship: ['Not-in-family' 'Husband' 'Wife' 'Own-child' 'Unmarried' 'Other-relative']\n",
            "\n",
            "race: ['White' 'Black' 'Asian-Pac-Islander' 'Amer-Indian-Eskimo' 'Other']\n",
            "\n",
            "sex: ['Male' 'Female']\n",
            "\n",
            "capital_gain: [ 2174     0 14084  5178  5013  2407 14344 15024  7688 34095  4064  4386\n",
            "  7298  1409  3674  1055  3464  2050  2176   594 20051  6849  4101  1111\n",
            "  8614  3411  2597 25236  4650  9386  2463  3103 10605  2964  3325  2580\n",
            "  3471  4865 99999  6514  1471  2329  2105  2885 25124 10520  2202  2961\n",
            " 27828  6767  2228  1506 13550  2635  5556  4787  3781  3137  3818  3942\n",
            "   914   401  2829  2977  4934  2062  2354  5455 15020  1424  3273 22040\n",
            "  4416  3908 10566   991  4931  1086  7430  6497   114  7896  2346  3418\n",
            "  3432  2907  1151  2414  2290 15831 41310  4508  2538  3456  6418  1848\n",
            "  3887  5721  9562  1455  2036  1831 11678  2936  2993  7443  6360  1797\n",
            "  1173  4687  6723  2009  6097  2653  1639 18481  7978  2387  5060  1264\n",
            "  7262  1731  6612]\n",
            "\n",
            "capital_loss: [   0 2042 1408 1902 1573 1887 1719 1762 1564 2179 1816 1980 1977 1876\n",
            " 1340 2206 1741 1485 2339 2415 1380 1721 2051 2377 1669 2352 1672  653\n",
            " 2392 1504 2001 1590 1651 1628 1848 1740 2002 1579 2258 1602  419 2547\n",
            " 2174 2205 1726 2444 1138 2238  625  213 1539  880 1668 1092 1594 3004\n",
            " 2231 1844  810 2824 2559 2057 1974  974 2149 1825 1735 1258 2129 2603\n",
            " 2282  323 4356 2246 1617 1648 2489 3770 1755 3683 2267 2080 2457  155\n",
            " 3900 2201 1944 2467 2163 2754 2472 1411 1429 3175 1510 1870 1911 2465\n",
            " 1421]\n",
            "\n",
            "hours_per_week: [40 13 16 45 50 80 30 35 60 20 52 44 15 25 38 43 55 48 58 32 70  2 22 56\n",
            " 41 28 36 24 46 42 12 65  1 10 34 75 98 33 54  8  6 64 19 18 72  5  9 47\n",
            " 37 21 26 14  4 59  7 99 53 39 62 57 78 90 66 11 49 84  3 17 68 27 85 31\n",
            " 51 77 63 23 87 88 73 89 97 94 29 96 67 82 86 91 81 76 92 61 74 95 79 69]\n",
            "\n",
            "native_country: ['United-States' 'Cuba' 'Jamaica' 'India' '?' 'Mexico' 'South'\n",
            " 'Puerto-Rico' 'Honduras' 'England' 'Canada' 'Germany' 'Iran'\n",
            " 'Philippines' 'Italy' 'Poland' 'Columbia' 'Cambodia' 'Thailand' 'Ecuador'\n",
            " 'Laos' 'Taiwan' 'Haiti' 'Portugal' 'Dominican-Republic' 'El-Salvador'\n",
            " 'France' 'Guatemala' 'China' 'Japan' 'Yugoslavia' 'Peru'\n",
            " 'Outlying-US(Guam-USVI-etc)' 'Scotland' 'Trinadad&Tobago' 'Greece'\n",
            " 'Nicaragua' 'Vietnam' 'Hong' 'Ireland' 'Hungary' 'Holand-Netherlands']\n",
            "\n",
            "income_bracket: ['<=50K' '>50K' '<=50K.' '>50K.']\n",
            "\n"
          ]
        }
      ],
      "source": [
        "for col in df.columns:\n",
        "    print(f\"{col}: {df[col].unique()}\\n\")"
      ]
    },
    {
      "cell_type": "markdown",
      "source": [
        "**It is obvious that the `education_num` is just a mapping for the `education` values. Thus, we can drop one of them.**\n",
        "\n",
        "**Since we need to provide numerical columns only for the model, we can drop the `education` column. Thus, `education_num` will act as the label encoding for `education`, preserving the right order of categories as they are ordinal**"
      ],
      "metadata": {
        "id": "yHbcg3P2GE-O"
      }
    },
    {
      "cell_type": "markdown",
      "metadata": {
        "id": "pFL1C6eHsYxg"
      },
      "source": [
        "**Handle inconsistencies and missing values**"
      ]
    },
    {
      "cell_type": "code",
      "execution_count": 7,
      "metadata": {
        "colab": {
          "base_uri": "https://localhost:8080/"
        },
        "id": "2OYhjpG2sYxh",
        "outputId": "5a42b6cd-f3ce-411c-f046-1696a3443fc6"
      },
      "outputs": [
        {
          "output_type": "execute_result",
          "data": {
            "text/plain": [
              "array(['<=50K', '>50K'], dtype=object)"
            ]
          },
          "metadata": {},
          "execution_count": 7
        }
      ],
      "source": [
        "# Because we want to replace a substring\n",
        "# we use {Series}.str.replace\n",
        "df['income_bracket'] = df['income_bracket'].str.replace('.', '', regex=False)\n",
        "df['income_bracket'].unique()"
      ]
    },
    {
      "cell_type": "code",
      "execution_count": 8,
      "metadata": {
        "id": "bjQmQAodsYxh"
      },
      "outputs": [],
      "source": [
        "# The '?' missing value indicator can be specified when loading the dataset using the na_values parameter\n",
        "# (assuming that there are no inconsistent whitespaces); code:\n",
        "#df = pd.read_csv('https://raw.githubusercontent.com/GUC-DM/Summer2025/main/data/census_income.csv', na_values='?')\n",
        "\n",
        "# Alternatively, we can perform this change after loading the dataset.\n",
        "# We'll strip any extra whitespaces from both ends of the string (just in case),\n",
        "# and replace the '?' character with the null indicator np.NaN\n",
        "for col in df.select_dtypes(object).columns:\n",
        "    df[col] = df[col].str.strip()\n",
        "    # Because we want to replace a value with another value,\n",
        "    # we use {DataFrame/Series}.replace (notice how we didn't use the .str accessor)\n",
        "    # This is equivalent to writing:\n",
        "    # df.loc[df[col] == '?', col] = np.NaN\n",
        "    df[col] = df[col].replace('?', np.nan, regex=False)"
      ]
    },
    {
      "cell_type": "code",
      "execution_count": 9,
      "metadata": {
        "id": "VPflSc1OsYxh"
      },
      "outputs": [],
      "source": [
        "# alternative one-line solution that applies this over each column\n",
        "#df = df.transform(lambda x: x.str.strip().replace('?', np.NaN, regex=False) if x.dtype == 'object' else x)"
      ]
    },
    {
      "cell_type": "code",
      "execution_count": 10,
      "metadata": {
        "colab": {
          "base_uri": "https://localhost:8080/",
          "height": 554
        },
        "id": "AcYFwgHYsYxi",
        "outputId": "8ba11b86-2221-4ba6-8b03-996e41340a33"
      },
      "outputs": [
        {
          "output_type": "execute_result",
          "data": {
            "text/plain": [
              "age                  0\n",
              "workclass         2799\n",
              "fnlwgt               0\n",
              "education            0\n",
              "education_num        0\n",
              "marital_status       0\n",
              "occupation        2809\n",
              "relationship         0\n",
              "race                 0\n",
              "sex                  0\n",
              "capital_gain         0\n",
              "capital_loss         0\n",
              "hours_per_week       0\n",
              "native_country     857\n",
              "income_bracket       0\n",
              "dtype: int64"
            ],
            "text/html": [
              "<div>\n",
              "<style scoped>\n",
              "    .dataframe tbody tr th:only-of-type {\n",
              "        vertical-align: middle;\n",
              "    }\n",
              "\n",
              "    .dataframe tbody tr th {\n",
              "        vertical-align: top;\n",
              "    }\n",
              "\n",
              "    .dataframe thead th {\n",
              "        text-align: right;\n",
              "    }\n",
              "</style>\n",
              "<table border=\"1\" class=\"dataframe\">\n",
              "  <thead>\n",
              "    <tr style=\"text-align: right;\">\n",
              "      <th></th>\n",
              "      <th>0</th>\n",
              "    </tr>\n",
              "  </thead>\n",
              "  <tbody>\n",
              "    <tr>\n",
              "      <th>age</th>\n",
              "      <td>0</td>\n",
              "    </tr>\n",
              "    <tr>\n",
              "      <th>workclass</th>\n",
              "      <td>2799</td>\n",
              "    </tr>\n",
              "    <tr>\n",
              "      <th>fnlwgt</th>\n",
              "      <td>0</td>\n",
              "    </tr>\n",
              "    <tr>\n",
              "      <th>education</th>\n",
              "      <td>0</td>\n",
              "    </tr>\n",
              "    <tr>\n",
              "      <th>education_num</th>\n",
              "      <td>0</td>\n",
              "    </tr>\n",
              "    <tr>\n",
              "      <th>marital_status</th>\n",
              "      <td>0</td>\n",
              "    </tr>\n",
              "    <tr>\n",
              "      <th>occupation</th>\n",
              "      <td>2809</td>\n",
              "    </tr>\n",
              "    <tr>\n",
              "      <th>relationship</th>\n",
              "      <td>0</td>\n",
              "    </tr>\n",
              "    <tr>\n",
              "      <th>race</th>\n",
              "      <td>0</td>\n",
              "    </tr>\n",
              "    <tr>\n",
              "      <th>sex</th>\n",
              "      <td>0</td>\n",
              "    </tr>\n",
              "    <tr>\n",
              "      <th>capital_gain</th>\n",
              "      <td>0</td>\n",
              "    </tr>\n",
              "    <tr>\n",
              "      <th>capital_loss</th>\n",
              "      <td>0</td>\n",
              "    </tr>\n",
              "    <tr>\n",
              "      <th>hours_per_week</th>\n",
              "      <td>0</td>\n",
              "    </tr>\n",
              "    <tr>\n",
              "      <th>native_country</th>\n",
              "      <td>857</td>\n",
              "    </tr>\n",
              "    <tr>\n",
              "      <th>income_bracket</th>\n",
              "      <td>0</td>\n",
              "    </tr>\n",
              "  </tbody>\n",
              "</table>\n",
              "</div><br><label><b>dtype:</b> int64</label>"
            ]
          },
          "metadata": {},
          "execution_count": 10
        }
      ],
      "source": [
        "df.isnull().sum()"
      ]
    },
    {
      "cell_type": "code",
      "execution_count": 11,
      "metadata": {
        "colab": {
          "base_uri": "https://localhost:8080/",
          "height": 554
        },
        "id": "puIIkaO3sYxi",
        "outputId": "2a6030dd-d3e1-40ca-8300-e463d5be1f8a"
      },
      "outputs": [
        {
          "output_type": "execute_result",
          "data": {
            "text/plain": [
              "age               0.000000\n",
              "workclass         5.730724\n",
              "fnlwgt            0.000000\n",
              "education         0.000000\n",
              "education_num     0.000000\n",
              "marital_status    0.000000\n",
              "occupation        5.751198\n",
              "relationship      0.000000\n",
              "race              0.000000\n",
              "sex               0.000000\n",
              "capital_gain      0.000000\n",
              "capital_loss      0.000000\n",
              "hours_per_week    0.000000\n",
              "native_country    1.754637\n",
              "income_bracket    0.000000\n",
              "dtype: float64"
            ],
            "text/html": [
              "<div>\n",
              "<style scoped>\n",
              "    .dataframe tbody tr th:only-of-type {\n",
              "        vertical-align: middle;\n",
              "    }\n",
              "\n",
              "    .dataframe tbody tr th {\n",
              "        vertical-align: top;\n",
              "    }\n",
              "\n",
              "    .dataframe thead th {\n",
              "        text-align: right;\n",
              "    }\n",
              "</style>\n",
              "<table border=\"1\" class=\"dataframe\">\n",
              "  <thead>\n",
              "    <tr style=\"text-align: right;\">\n",
              "      <th></th>\n",
              "      <th>0</th>\n",
              "    </tr>\n",
              "  </thead>\n",
              "  <tbody>\n",
              "    <tr>\n",
              "      <th>age</th>\n",
              "      <td>0.000000</td>\n",
              "    </tr>\n",
              "    <tr>\n",
              "      <th>workclass</th>\n",
              "      <td>5.730724</td>\n",
              "    </tr>\n",
              "    <tr>\n",
              "      <th>fnlwgt</th>\n",
              "      <td>0.000000</td>\n",
              "    </tr>\n",
              "    <tr>\n",
              "      <th>education</th>\n",
              "      <td>0.000000</td>\n",
              "    </tr>\n",
              "    <tr>\n",
              "      <th>education_num</th>\n",
              "      <td>0.000000</td>\n",
              "    </tr>\n",
              "    <tr>\n",
              "      <th>marital_status</th>\n",
              "      <td>0.000000</td>\n",
              "    </tr>\n",
              "    <tr>\n",
              "      <th>occupation</th>\n",
              "      <td>5.751198</td>\n",
              "    </tr>\n",
              "    <tr>\n",
              "      <th>relationship</th>\n",
              "      <td>0.000000</td>\n",
              "    </tr>\n",
              "    <tr>\n",
              "      <th>race</th>\n",
              "      <td>0.000000</td>\n",
              "    </tr>\n",
              "    <tr>\n",
              "      <th>sex</th>\n",
              "      <td>0.000000</td>\n",
              "    </tr>\n",
              "    <tr>\n",
              "      <th>capital_gain</th>\n",
              "      <td>0.000000</td>\n",
              "    </tr>\n",
              "    <tr>\n",
              "      <th>capital_loss</th>\n",
              "      <td>0.000000</td>\n",
              "    </tr>\n",
              "    <tr>\n",
              "      <th>hours_per_week</th>\n",
              "      <td>0.000000</td>\n",
              "    </tr>\n",
              "    <tr>\n",
              "      <th>native_country</th>\n",
              "      <td>1.754637</td>\n",
              "    </tr>\n",
              "    <tr>\n",
              "      <th>income_bracket</th>\n",
              "      <td>0.000000</td>\n",
              "    </tr>\n",
              "  </tbody>\n",
              "</table>\n",
              "</div><br><label><b>dtype:</b> float64</label>"
            ]
          },
          "metadata": {},
          "execution_count": 11
        }
      ],
      "source": [
        "df.isnull().sum() / len(df) * 100"
      ]
    },
    {
      "cell_type": "code",
      "execution_count": 12,
      "metadata": {
        "colab": {
          "base_uri": "https://localhost:8080/",
          "height": 554
        },
        "id": "6F791Y2NsYxi",
        "outputId": "638907f7-5487-44c0-920b-ccf3b1aaa0a6"
      },
      "outputs": [
        {
          "output_type": "execute_result",
          "data": {
            "text/plain": [
              "age               0\n",
              "workclass         0\n",
              "fnlwgt            0\n",
              "education         0\n",
              "education_num     0\n",
              "marital_status    0\n",
              "occupation        0\n",
              "relationship      0\n",
              "race              0\n",
              "sex               0\n",
              "capital_gain      0\n",
              "capital_loss      0\n",
              "hours_per_week    0\n",
              "native_country    0\n",
              "income_bracket    0\n",
              "dtype: int64"
            ],
            "text/html": [
              "<div>\n",
              "<style scoped>\n",
              "    .dataframe tbody tr th:only-of-type {\n",
              "        vertical-align: middle;\n",
              "    }\n",
              "\n",
              "    .dataframe tbody tr th {\n",
              "        vertical-align: top;\n",
              "    }\n",
              "\n",
              "    .dataframe thead th {\n",
              "        text-align: right;\n",
              "    }\n",
              "</style>\n",
              "<table border=\"1\" class=\"dataframe\">\n",
              "  <thead>\n",
              "    <tr style=\"text-align: right;\">\n",
              "      <th></th>\n",
              "      <th>0</th>\n",
              "    </tr>\n",
              "  </thead>\n",
              "  <tbody>\n",
              "    <tr>\n",
              "      <th>age</th>\n",
              "      <td>0</td>\n",
              "    </tr>\n",
              "    <tr>\n",
              "      <th>workclass</th>\n",
              "      <td>0</td>\n",
              "    </tr>\n",
              "    <tr>\n",
              "      <th>fnlwgt</th>\n",
              "      <td>0</td>\n",
              "    </tr>\n",
              "    <tr>\n",
              "      <th>education</th>\n",
              "      <td>0</td>\n",
              "    </tr>\n",
              "    <tr>\n",
              "      <th>education_num</th>\n",
              "      <td>0</td>\n",
              "    </tr>\n",
              "    <tr>\n",
              "      <th>marital_status</th>\n",
              "      <td>0</td>\n",
              "    </tr>\n",
              "    <tr>\n",
              "      <th>occupation</th>\n",
              "      <td>0</td>\n",
              "    </tr>\n",
              "    <tr>\n",
              "      <th>relationship</th>\n",
              "      <td>0</td>\n",
              "    </tr>\n",
              "    <tr>\n",
              "      <th>race</th>\n",
              "      <td>0</td>\n",
              "    </tr>\n",
              "    <tr>\n",
              "      <th>sex</th>\n",
              "      <td>0</td>\n",
              "    </tr>\n",
              "    <tr>\n",
              "      <th>capital_gain</th>\n",
              "      <td>0</td>\n",
              "    </tr>\n",
              "    <tr>\n",
              "      <th>capital_loss</th>\n",
              "      <td>0</td>\n",
              "    </tr>\n",
              "    <tr>\n",
              "      <th>hours_per_week</th>\n",
              "      <td>0</td>\n",
              "    </tr>\n",
              "    <tr>\n",
              "      <th>native_country</th>\n",
              "      <td>0</td>\n",
              "    </tr>\n",
              "    <tr>\n",
              "      <th>income_bracket</th>\n",
              "      <td>0</td>\n",
              "    </tr>\n",
              "  </tbody>\n",
              "</table>\n",
              "</div><br><label><b>dtype:</b> int64</label>"
            ]
          },
          "metadata": {},
          "execution_count": 12
        }
      ],
      "source": [
        "# since there are few records with null values,\n",
        "# we can drop them from the dataset\n",
        "df = df.dropna()\n",
        "df.dropna().isnull().sum()"
      ]
    },
    {
      "cell_type": "markdown",
      "metadata": {
        "id": "EI_GzSkIsYxj"
      },
      "source": [
        "For the sake of simplicty, we won't be using the fnlwgt attribute\n",
        "\n",
        "**Drop the fnlwgt attribute from the dataset**"
      ]
    },
    {
      "cell_type": "code",
      "execution_count": 13,
      "metadata": {
        "colab": {
          "base_uri": "https://localhost:8080/"
        },
        "id": "EPQKHuU9sYxj",
        "outputId": "f59b2abb-6947-4df0-cea1-38bb72065065"
      },
      "outputs": [
        {
          "output_type": "stream",
          "name": "stdout",
          "text": [
            "<class 'pandas.core.frame.DataFrame'>\n",
            "Index: 45222 entries, 0 to 48841\n",
            "Data columns (total 14 columns):\n",
            " #   Column          Non-Null Count  Dtype \n",
            "---  ------          --------------  ----- \n",
            " 0   age             45222 non-null  int64 \n",
            " 1   workclass       45222 non-null  object\n",
            " 2   education       45222 non-null  object\n",
            " 3   education_num   45222 non-null  int64 \n",
            " 4   marital_status  45222 non-null  object\n",
            " 5   occupation      45222 non-null  object\n",
            " 6   relationship    45222 non-null  object\n",
            " 7   race            45222 non-null  object\n",
            " 8   sex             45222 non-null  object\n",
            " 9   capital_gain    45222 non-null  int64 \n",
            " 10  capital_loss    45222 non-null  int64 \n",
            " 11  hours_per_week  45222 non-null  int64 \n",
            " 12  native_country  45222 non-null  object\n",
            " 13  income_bracket  45222 non-null  object\n",
            "dtypes: int64(5), object(9)\n",
            "memory usage: 5.2+ MB\n"
          ]
        }
      ],
      "source": [
        "# We'll also drop fnlwgt attribute for simplicity\n",
        "\n",
        "df = df.drop('fnlwgt', axis=1)\n",
        "df.info()"
      ]
    },
    {
      "cell_type": "markdown",
      "metadata": {
        "id": "pM4Mb4QnsYxj"
      },
      "source": [
        "## Exploratory Data Analysis"
      ]
    },
    {
      "cell_type": "markdown",
      "metadata": {
        "id": "HVZ5Fi9TsYxj"
      },
      "source": [
        "**Q: Does education have an impact on a person's income bracket?**\n",
        "\n",
        "*Hint: see lab 6 for an example of plotting a categorical attribute against a binary attribute.*"
      ]
    },
    {
      "cell_type": "code",
      "execution_count": 14,
      "metadata": {
        "id": "r4TjcGRCsYxj"
      },
      "outputs": [],
      "source": [
        "# Since the less than (<) sign comes before the greater than sign (>)\n",
        "# We won't need to manually map each value and can just let pandas handle the conversion\n",
        "# This allows seaborn to numerically calculate the percentage of employees who earn >=50k for the barplot\n",
        "# (Since >50k is 1, and <=50k is 0)\n",
        "df['income_bracket'] = df['income_bracket'].astype('category').cat.codes"
      ]
    },
    {
      "cell_type": "code",
      "execution_count": 15,
      "metadata": {
        "colab": {
          "base_uri": "https://localhost:8080/",
          "height": 458
        },
        "id": "eU_6nRzisYxk",
        "outputId": "3bd5a3c4-bbe8-48a9-dc26-615e3321fc3b"
      },
      "outputs": [
        {
          "output_type": "execute_result",
          "data": {
            "text/plain": [
              "0        0\n",
              "1        0\n",
              "2        0\n",
              "3        0\n",
              "4        0\n",
              "        ..\n",
              "48836    0\n",
              "48837    0\n",
              "48839    0\n",
              "48840    0\n",
              "48841    1\n",
              "Name: income_bracket, Length: 45222, dtype: int8"
            ],
            "text/html": [
              "<div>\n",
              "<style scoped>\n",
              "    .dataframe tbody tr th:only-of-type {\n",
              "        vertical-align: middle;\n",
              "    }\n",
              "\n",
              "    .dataframe tbody tr th {\n",
              "        vertical-align: top;\n",
              "    }\n",
              "\n",
              "    .dataframe thead th {\n",
              "        text-align: right;\n",
              "    }\n",
              "</style>\n",
              "<table border=\"1\" class=\"dataframe\">\n",
              "  <thead>\n",
              "    <tr style=\"text-align: right;\">\n",
              "      <th></th>\n",
              "      <th>income_bracket</th>\n",
              "    </tr>\n",
              "  </thead>\n",
              "  <tbody>\n",
              "    <tr>\n",
              "      <th>0</th>\n",
              "      <td>0</td>\n",
              "    </tr>\n",
              "    <tr>\n",
              "      <th>1</th>\n",
              "      <td>0</td>\n",
              "    </tr>\n",
              "    <tr>\n",
              "      <th>2</th>\n",
              "      <td>0</td>\n",
              "    </tr>\n",
              "    <tr>\n",
              "      <th>3</th>\n",
              "      <td>0</td>\n",
              "    </tr>\n",
              "    <tr>\n",
              "      <th>4</th>\n",
              "      <td>0</td>\n",
              "    </tr>\n",
              "    <tr>\n",
              "      <th>...</th>\n",
              "      <td>...</td>\n",
              "    </tr>\n",
              "    <tr>\n",
              "      <th>48836</th>\n",
              "      <td>0</td>\n",
              "    </tr>\n",
              "    <tr>\n",
              "      <th>48837</th>\n",
              "      <td>0</td>\n",
              "    </tr>\n",
              "    <tr>\n",
              "      <th>48839</th>\n",
              "      <td>0</td>\n",
              "    </tr>\n",
              "    <tr>\n",
              "      <th>48840</th>\n",
              "      <td>0</td>\n",
              "    </tr>\n",
              "    <tr>\n",
              "      <th>48841</th>\n",
              "      <td>1</td>\n",
              "    </tr>\n",
              "  </tbody>\n",
              "</table>\n",
              "<p>45222 rows × 1 columns</p>\n",
              "</div><br><label><b>dtype:</b> int8</label>"
            ]
          },
          "metadata": {},
          "execution_count": 15
        }
      ],
      "source": [
        "df['income_bracket']"
      ]
    },
    {
      "cell_type": "code",
      "execution_count": 16,
      "metadata": {
        "id": "OPoeqXiGIHQE",
        "outputId": "2739f8df-c4bc-4ed9-e0e8-0b7f952e6864",
        "colab": {
          "base_uri": "https://localhost:8080/"
        }
      },
      "outputs": [
        {
          "output_type": "stream",
          "name": "stdout",
          "text": [
            "income_bracket\n",
            "0    34014\n",
            "1    11208\n",
            "Name: count, dtype: int64\n",
            "----------------------------------------------------------------\n",
            "income_bracket\n",
            "0    0.752156\n",
            "1    0.247844\n",
            "Name: count, dtype: float64\n"
          ]
        }
      ],
      "source": [
        "# Checking for the distrubution of the income classes\n",
        "\n",
        "print(df['income_bracket'].value_counts())\n",
        "print('----------------------------------------------------------------')\n",
        "print(df['income_bracket'].value_counts()/ df['income_bracket'].count())"
      ]
    },
    {
      "cell_type": "code",
      "execution_count": 17,
      "metadata": {
        "colab": {
          "base_uri": "https://localhost:8080/"
        },
        "id": "xojbVJXwsYxk",
        "outputId": "7a765cbe-ab95-4fe8-d53f-49f363cbc9fe"
      },
      "outputs": [
        {
          "output_type": "execute_result",
          "data": {
            "text/plain": [
              "Index(['Preschool', '1st-4th', '5th-6th', '11th', '9th', '7th-8th', '10th',\n",
              "       '12th', 'HS-grad', 'Some-college', 'Assoc-voc', 'Assoc-acdm',\n",
              "       'Bachelors', 'Masters', 'Doctorate', 'Prof-school'],\n",
              "      dtype='object', name='education')"
            ]
          },
          "metadata": {},
          "execution_count": 17
        }
      ],
      "source": [
        "# Optional ordering\n",
        "order = df[['education', 'income_bracket']].groupby('education').mean().sort_values('income_bracket').index\n",
        "order"
      ]
    },
    {
      "cell_type": "code",
      "execution_count": 18,
      "metadata": {
        "colab": {
          "base_uri": "https://localhost:8080/",
          "height": 575
        },
        "id": "90kWIEDxsYxk",
        "outputId": "d96e2be4-e53f-4edf-9d9f-15c86fd40ed9"
      },
      "outputs": [
        {
          "output_type": "display_data",
          "data": {
            "text/plain": [
              "<Figure size 800x550 with 1 Axes>"
            ],
            "image/png": "[encoded data removed]"
          },
          "metadata": {}
        }
      ],
      "source": [
        "ax = sns.barplot(x='education', y='income_bracket', data=df, order=order);\n",
        "# rotate the axis tick labels for clarity (otherwise they would overlap)\n",
        "ax.set_xticklabels(ax.get_xticklabels(),rotation=90);"
      ]
    },
    {
      "cell_type": "markdown",
      "metadata": {
        "id": "SRdO6grMsYxk"
      },
      "source": [
        "## Data Preprocessing"
      ]
    },
    {
      "cell_type": "markdown",
      "metadata": {
        "id": "JwP0MsnKsYxl"
      },
      "source": [
        "**Encode the categorical columns using an appropriate strategy**"
      ]
    },
    {
      "cell_type": "code",
      "source": [
        "# We'll drop education\n",
        "\n",
        "df = df.drop('education', axis=1)\n",
        "df.info()"
      ],
      "metadata": {
        "id": "VwBxx9iagoxn",
        "outputId": "1cff4e14-0f5e-4bf5-9332-85f3ab61a10c",
        "colab": {
          "base_uri": "https://localhost:8080/"
        }
      },
      "execution_count": 19,
      "outputs": [
        {
          "output_type": "stream",
          "name": "stdout",
          "text": [
            "<class 'pandas.core.frame.DataFrame'>\n",
            "Index: 45222 entries, 0 to 48841\n",
            "Data columns (total 13 columns):\n",
            " #   Column          Non-Null Count  Dtype \n",
            "---  ------          --------------  ----- \n",
            " 0   age             45222 non-null  int64 \n",
            " 1   workclass       45222 non-null  object\n",
            " 2   education_num   45222 non-null  int64 \n",
            " 3   marital_status  45222 non-null  object\n",
            " 4   occupation      45222 non-null  object\n",
            " 5   relationship    45222 non-null  object\n",
            " 6   race            45222 non-null  object\n",
            " 7   sex             45222 non-null  object\n",
            " 8   capital_gain    45222 non-null  int64 \n",
            " 9   capital_loss    45222 non-null  int64 \n",
            " 10  hours_per_week  45222 non-null  int64 \n",
            " 11  native_country  45222 non-null  object\n",
            " 12  income_bracket  45222 non-null  int8  \n",
            "dtypes: int64(5), int8(1), object(7)\n",
            "memory usage: 4.5+ MB\n"
          ]
        }
      ]
    },
    {
      "cell_type": "code",
      "execution_count": 20,
      "metadata": {
        "id": "EpxMtJVUEt64",
        "outputId": "acb26786-d3ee-4446-8f88-2f1af6cd84a2",
        "colab": {
          "base_uri": "https://localhost:8080/"
        }
      },
      "outputs": [
        {
          "output_type": "execute_result",
          "data": {
            "text/plain": [
              "Index(['workclass', 'marital_status', 'occupation', 'relationship', 'race',\n",
              "       'sex', 'native_country'],\n",
              "      dtype='object')"
            ]
          },
          "metadata": {},
          "execution_count": 20
        }
      ],
      "source": [
        "Categorical_columns = df.select_dtypes(object).columns\n",
        "Categorical_columns"
      ]
    },
    {
      "cell_type": "code",
      "execution_count": 21,
      "metadata": {
        "colab": {
          "base_uri": "https://localhost:8080/",
          "height": 461
        },
        "id": "VrekK2N4sYxl",
        "outputId": "48bf5cb9-6c93-4779-9f42-04191a25c38a"
      },
      "outputs": [
        {
          "output_type": "execute_result",
          "data": {
            "text/plain": [
              "       age  education_num  capital_gain  capital_loss  hours_per_week  \\\n",
              "0       39             13          2174             0              40   \n",
              "1       50             13             0             0              13   \n",
              "2       38              9             0             0              40   \n",
              "3       53              7             0             0              40   \n",
              "4       28             13             0             0              40   \n",
              "...    ...            ...           ...           ...             ...   \n",
              "48836   33             13             0             0              40   \n",
              "48837   39             13             0             0              36   \n",
              "48839   38             13             0             0              50   \n",
              "48840   44             13          5455             0              40   \n",
              "48841   35             13             0             0              60   \n",
              "\n",
              "       income_bracket  workclass_Federal-gov  workclass_Local-gov  \\\n",
              "0                   0                  False                False   \n",
              "1                   0                  False                False   \n",
              "2                   0                  False                False   \n",
              "3                   0                  False                False   \n",
              "4                   0                  False                False   \n",
              "...               ...                    ...                  ...   \n",
              "48836               0                  False                False   \n",
              "48837               0                  False                False   \n",
              "48839               0                  False                False   \n",
              "48840               0                  False                False   \n",
              "48841               1                  False                False   \n",
              "\n",
              "       workclass_Private  workclass_Self-emp-inc  ...  \\\n",
              "0                  False                   False  ...   \n",
              "1                  False                   False  ...   \n",
              "2                   True                   False  ...   \n",
              "3                   True                   False  ...   \n",
              "4                   True                   False  ...   \n",
              "...                  ...                     ...  ...   \n",
              "48836               True                   False  ...   \n",
              "48837               True                   False  ...   \n",
              "48839               True                   False  ...   \n",
              "48840               True                   False  ...   \n",
              "48841              False                    True  ...   \n",
              "\n",
              "       native_country_Portugal  native_country_Puerto-Rico  \\\n",
              "0                        False                       False   \n",
              "1                        False                       False   \n",
              "2                        False                       False   \n",
              "3                        False                       False   \n",
              "4                        False                       False   \n",
              "...                        ...                         ...   \n",
              "48836                    False                       False   \n",
              "48837                    False                       False   \n",
              "48839                    False                       False   \n",
              "48840                    False                       False   \n",
              "48841                    False                       False   \n",
              "\n",
              "       native_country_Scotland  native_country_South  native_country_Taiwan  \\\n",
              "0                        False                 False                  False   \n",
              "1                        False                 False                  False   \n",
              "2                        False                 False                  False   \n",
              "3                        False                 False                  False   \n",
              "4                        False                 False                  False   \n",
              "...                        ...                   ...                    ...   \n",
              "48836                    False                 False                  False   \n",
              "48837                    False                 False                  False   \n",
              "48839                    False                 False                  False   \n",
              "48840                    False                 False                  False   \n",
              "48841                    False                 False                  False   \n",
              "\n",
              "       native_country_Thailand  native_country_Trinadad&Tobago  \\\n",
              "0                        False                           False   \n",
              "1                        False                           False   \n",
              "2                        False                           False   \n",
              "3                        False                           False   \n",
              "4                        False                           False   \n",
              "...                        ...                             ...   \n",
              "48836                    False                           False   \n",
              "48837                    False                           False   \n",
              "48839                    False                           False   \n",
              "48840                    False                           False   \n",
              "48841                    False                           False   \n",
              "\n",
              "       native_country_United-States  native_country_Vietnam  \\\n",
              "0                              True                   False   \n",
              "1                              True                   False   \n",
              "2                              True                   False   \n",
              "3                              True                   False   \n",
              "4                             False                   False   \n",
              "...                             ...                     ...   \n",
              "48836                          True                   False   \n",
              "48837                          True                   False   \n",
              "48839                          True                   False   \n",
              "48840                          True                   False   \n",
              "48841                          True                   False   \n",
              "\n",
              "       native_country_Yugoslavia  \n",
              "0                          False  \n",
              "1                          False  \n",
              "2                          False  \n",
              "3                          False  \n",
              "4                          False  \n",
              "...                          ...  \n",
              "48836                      False  \n",
              "48837                      False  \n",
              "48839                      False  \n",
              "48840                      False  \n",
              "48841                      False  \n",
              "\n",
              "[45222 rows x 88 columns]"
            ],
            "text/html": [
              "\n",
              "  <div id=\"df-557ac9d1-ed24-4109-a182-83895586379b\" class=\"colab-df-container\">\n",
              "    <div>\n",
              "<style scoped>\n",
              "    .dataframe tbody tr th:only-of-type {\n",
              "        vertical-align: middle;\n",
              "    }\n",
              "\n",
              "    .dataframe tbody tr th {\n",
              "        vertical-align: top;\n",
              "    }\n",
              "\n",
              "    .dataframe thead th {\n",
              "        text-align: right;\n",
              "    }\n",
              "</style>\n",
              "<table border=\"1\" class=\"dataframe\">\n",
              "  <thead>\n",
              "    <tr style=\"text-align: right;\">\n",
              "      <th></th>\n",
              "      <th>age</th>\n",
              "      <th>education_num</th>\n",
              "      <th>capital_gain</th>\n",
              "      <th>capital_loss</th>\n",
              "      <th>hours_per_week</th>\n",
              "      <th>income_bracket</th>\n",
              "      <th>workclass_Federal-gov</th>\n",
              "      <th>workclass_Local-gov</th>\n",
              "      <th>workclass_Private</th>\n",
              "      <th>workclass_Self-emp-inc</th>\n",
              "      <th>...</th>\n",
              "      <th>native_country_Portugal</th>\n",
              "      <th>native_country_Puerto-Rico</th>\n",
              "      <th>native_country_Scotland</th>\n",
              "      <th>native_country_South</th>\n",
              "      <th>native_country_Taiwan</th>\n",
              "      <th>native_country_Thailand</th>\n",
              "      <th>native_country_Trinadad&amp;Tobago</th>\n",
              "      <th>native_country_United-States</th>\n",
              "      <th>native_country_Vietnam</th>\n",
              "      <th>native_country_Yugoslavia</th>\n",
              "    </tr>\n",
              "  </thead>\n",
              "  <tbody>\n",
              "    <tr>\n",
              "      <th>0</th>\n",
              "      <td>39</td>\n",
              "      <td>13</td>\n",
              "      <td>2174</td>\n",
              "      <td>0</td>\n",
              "      <td>40</td>\n",
              "      <td>0</td>\n",
              "      <td>False</td>\n",
              "      <td>False</td>\n",
              "      <td>False</td>\n",
              "      <td>False</td>\n",
              "      <td>...</td>\n",
              "      <td>False</td>\n",
              "      <td>False</td>\n",
              "      <td>False</td>\n",
              "      <td>False</td>\n",
              "      <td>False</td>\n",
              "      <td>False</td>\n",
              "      <td>False</td>\n",
              "      <td>True</td>\n",
              "      <td>False</td>\n",
              "      <td>False</td>\n",
              "    </tr>\n",
              "    <tr>\n",
              "      <th>1</th>\n",
              "      <td>50</td>\n",
              "      <td>13</td>\n",
              "      <td>0</td>\n",
              "      <td>0</td>\n",
              "      <td>13</td>\n",
              "      <td>0</td>\n",
              "      <td>False</td>\n",
              "      <td>False</td>\n",
              "      <td>False</td>\n",
              "      <td>False</td>\n",
              "      <td>...</td>\n",
              "      <td>False</td>\n",
              "      <td>False</td>\n",
              "      <td>False</td>\n",
              "      <td>False</td>\n",
              "      <td>False</td>\n",
              "      <td>False</td>\n",
              "      <td>False</td>\n",
              "      <td>True</td>\n",
              "      <td>False</td>\n",
              "      <td>False</td>\n",
              "    </tr>\n",
              "    <tr>\n",
              "      <th>2</th>\n",
              "      <td>38</td>\n",
              "      <td>9</td>\n",
              "      <td>0</td>\n",
              "      <td>0</td>\n",
              "      <td>40</td>\n",
              "      <td>0</td>\n",
              "      <td>False</td>\n",
              "      <td>False</td>\n",
              "      <td>True</td>\n",
              "      <td>False</td>\n",
              "      <td>...</td>\n",
              "      <td>False</td>\n",
              "      <td>False</td>\n",
              "      <td>False</td>\n",
              "      <td>False</td>\n",
              "      <td>False</td>\n",
              "      <td>False</td>\n",
              "      <td>False</td>\n",
              "      <td>True</td>\n",
              "      <td>False</td>\n",
              "      <td>False</td>\n",
              "    </tr>\n",
              "    <tr>\n",
              "      <th>3</th>\n",
              "      <td>53</td>\n",
              "      <td>7</td>\n",
              "      <td>0</td>\n",
              "      <td>0</td>\n",
              "      <td>40</td>\n",
              "      <td>0</td>\n",
              "      <td>False</td>\n",
              "      <td>False</td>\n",
              "      <td>True</td>\n",
              "      <td>False</td>\n",
              "      <td>...</td>\n",
              "      <td>False</td>\n",
              "      <td>False</td>\n",
              "      <td>False</td>\n",
              "      <td>False</td>\n",
              "      <td>False</td>\n",
              "      <td>False</td>\n",
              "      <td>False</td>\n",
              "      <td>True</td>\n",
              "      <td>False</td>\n",
              "      <td>False</td>\n",
              "    </tr>\n",
              "    <tr>\n",
              "      <th>4</th>\n",
              "      <td>28</td>\n",
              "      <td>13</td>\n",
              "      <td>0</td>\n",
              "      <td>0</td>\n",
              "      <td>40</td>\n",
              "      <td>0</td>\n",
              "      <td>False</td>\n",
              "      <td>False</td>\n",
              "      <td>True</td>\n",
              "      <td>False</td>\n",
              "      <td>...</td>\n",
              "      <td>False</td>\n",
              "      <td>False</td>\n",
              "      <td>False</td>\n",
              "      <td>False</td>\n",
              "      <td>False</td>\n",
              "      <td>False</td>\n",
              "      <td>False</td>\n",
              "      <td>False</td>\n",
              "      <td>False</td>\n",
              "      <td>False</td>\n",
              "    </tr>\n",
              "    <tr>\n",
              "      <th>...</th>\n",
              "      <td>...</td>\n",
              "      <td>...</td>\n",
              "      <td>...</td>\n",
              "      <td>...</td>\n",
              "      <td>...</td>\n",
              "      <td>...</td>\n",
              "      <td>...</td>\n",
              "      <td>...</td>\n",
              "      <td>...</td>\n",
              "      <td>...</td>\n",
              "      <td>...</td>\n",
              "      <td>...</td>\n",
              "      <td>...</td>\n",
              "      <td>...</td>\n",
              "      <td>...</td>\n",
              "      <td>...</td>\n",
              "      <td>...</td>\n",
              "      <td>...</td>\n",
              "      <td>...</td>\n",
              "      <td>...</td>\n",
              "      <td>...</td>\n",
              "    </tr>\n",
              "    <tr>\n",
              "      <th>48836</th>\n",
              "      <td>33</td>\n",
              "      <td>13</td>\n",
              "      <td>0</td>\n",
              "      <td>0</td>\n",
              "      <td>40</td>\n",
              "      <td>0</td>\n",
              "      <td>False</td>\n",
              "      <td>False</td>\n",
              "      <td>True</td>\n",
              "      <td>False</td>\n",
              "      <td>...</td>\n",
              "      <td>False</td>\n",
              "      <td>False</td>\n",
              "      <td>False</td>\n",
              "      <td>False</td>\n",
              "      <td>False</td>\n",
              "      <td>False</td>\n",
              "      <td>False</td>\n",
              "      <td>True</td>\n",
              "      <td>False</td>\n",
              "      <td>False</td>\n",
              "    </tr>\n",
              "    <tr>\n",
              "      <th>48837</th>\n",
              "      <td>39</td>\n",
              "      <td>13</td>\n",
              "      <td>0</td>\n",
              "      <td>0</td>\n",
              "      <td>36</td>\n",
              "      <td>0</td>\n",
              "      <td>False</td>\n",
              "      <td>False</td>\n",
              "      <td>True</td>\n",
              "      <td>False</td>\n",
              "      <td>...</td>\n",
              "      <td>False</td>\n",
              "      <td>False</td>\n",
              "      <td>False</td>\n",
              "      <td>False</td>\n",
              "      <td>False</td>\n",
              "      <td>False</td>\n",
              "      <td>False</td>\n",
              "      <td>True</td>\n",
              "      <td>False</td>\n",
              "      <td>False</td>\n",
              "    </tr>\n",
              "    <tr>\n",
              "      <th>48839</th>\n",
              "      <td>38</td>\n",
              "      <td>13</td>\n",
              "      <td>0</td>\n",
              "      <td>0</td>\n",
              "      <td>50</td>\n",
              "      <td>0</td>\n",
              "      <td>False</td>\n",
              "      <td>False</td>\n",
              "      <td>True</td>\n",
              "      <td>False</td>\n",
              "      <td>...</td>\n",
              "      <td>False</td>\n",
              "      <td>False</td>\n",
              "      <td>False</td>\n",
              "      <td>False</td>\n",
              "      <td>False</td>\n",
              "      <td>False</td>\n",
              "      <td>False</td>\n",
              "      <td>True</td>\n",
              "      <td>False</td>\n",
              "      <td>False</td>\n",
              "    </tr>\n",
              "    <tr>\n",
              "      <th>48840</th>\n",
              "      <td>44</td>\n",
              "      <td>13</td>\n",
              "      <td>5455</td>\n",
              "      <td>0</td>\n",
              "      <td>40</td>\n",
              "      <td>0</td>\n",
              "      <td>False</td>\n",
              "      <td>False</td>\n",
              "      <td>True</td>\n",
              "      <td>False</td>\n",
              "      <td>...</td>\n",
              "      <td>False</td>\n",
              "      <td>False</td>\n",
              "      <td>False</td>\n",
              "      <td>False</td>\n",
              "      <td>False</td>\n",
              "      <td>False</td>\n",
              "      <td>False</td>\n",
              "      <td>True</td>\n",
              "      <td>False</td>\n",
              "      <td>False</td>\n",
              "    </tr>\n",
              "    <tr>\n",
              "      <th>48841</th>\n",
              "      <td>35</td>\n",
              "      <td>13</td>\n",
              "      <td>0</td>\n",
              "      <td>0</td>\n",
              "      <td>60</td>\n",
              "      <td>1</td>\n",
              "      <td>False</td>\n",
              "      <td>False</td>\n",
              "      <td>False</td>\n",
              "      <td>True</td>\n",
              "      <td>...</td>\n",
              "      <td>False</td>\n",
              "      <td>False</td>\n",
              "      <td>False</td>\n",
              "      <td>False</td>\n",
              "      <td>False</td>\n",
              "      <td>False</td>\n",
              "      <td>False</td>\n",
              "      <td>True</td>\n",
              "      <td>False</td>\n",
              "      <td>False</td>\n",
              "    </tr>\n",
              "  </tbody>\n",
              "</table>\n",
              "<p>45222 rows × 88 columns</p>\n",
              "</div>\n",
              "    <div class=\"colab-df-buttons\">\n",
              "\n",
              "  <div class=\"colab-df-container\">\n",
              "    <button class=\"colab-df-convert\" onclick=\"convertToInteractive('df-557ac9d1-ed24-4109-a182-83895586379b')\"\n",
              "            title=\"Convert this dataframe to an interactive table.\"\n",
              "            style=\"display:none;\">\n",
              "\n",
              "  <svg xmlns=\"http://www.w3.org/2000/svg\" height=\"24px\" viewBox=\"0 -960 960 960\">\n",
              "    <path d=\"M120-120v-720h720v720H120Zm60-500h600v-160H180v160Zm220 220h160v-160H400v160Zm0 220h160v-160H400v160ZM180-400h160v-160H180v160Zm440 0h160v-160H620v160ZM180-180h160v-160H180v160Zm440 0h160v-160H620v160Z\"/>\n",
              "  </svg>\n",
              "    </button>\n",
              "\n",
              "  <style>\n",
              "    .colab-df-container {\n",
              "      display:flex;\n",
              "      gap: 12px;\n",
              "    }\n",
              "\n",
              "    .colab-df-convert {\n",
              "      background-color: #E8F0FE;\n",
              "      border: none;\n",
              "      border-radius: 50%;\n",
              "      cursor: pointer;\n",
              "      display: none;\n",
              "      fill: #1967D2;\n",
              "      height: 32px;\n",
              "      padding: 0 0 0 0;\n",
              "      width: 32px;\n",
              "    }\n",
              "\n",
              "    .colab-df-convert:hover {\n",
              "      background-color: #E2EBFA;\n",
              "      box-shadow: 0px 1px 2px rgba(60, 64, 67, 0.3), 0px 1px 3px 1px rgba(60, 64, 67, 0.15);\n",
              "      fill: #174EA6;\n",
              "    }\n",
              "\n",
              "    .colab-df-buttons div {\n",
              "      margin-bottom: 4px;\n",
              "    }\n",
              "\n",
              "    [theme=dark] .colab-df-convert {\n",
              "      background-color: #3B4455;\n",
              "      fill: #D2E3FC;\n",
              "    }\n",
              "\n",
              "    [theme=dark] .colab-df-convert:hover {\n",
              "      background-color: #434B5C;\n",
              "      box-shadow: 0px 1px 3px 1px rgba(0, 0, 0, 0.15);\n",
              "      filter: drop-shadow(0px 1px 2px rgba(0, 0, 0, 0.3));\n",
              "      fill: #FFFFFF;\n",
              "    }\n",
              "  </style>\n",
              "\n",
              "    <script>\n",
              "      const buttonEl =\n",
              "        document.querySelector('#df-557ac9d1-ed24-4109-a182-83895586379b button.colab-df-convert');\n",
              "      buttonEl.style.display =\n",
              "        google.colab.kernel.accessAllowed ? 'block' : 'none';\n",
              "\n",
              "      async function convertToInteractive(key) {\n",
              "        const element = document.querySelector('#df-557ac9d1-ed24-4109-a182-83895586379b');\n",
              "        const dataTable =\n",
              "          await google.colab.kernel.invokeFunction('convertToInteractive',\n",
              "                                                    [key], {});\n",
              "        if (!dataTable) return;\n",
              "\n",
              "        const docLinkHtml = 'Like what you see? Visit the ' +\n",
              "          '<a target=\"_blank\" href=https://colab.research.google.com/notebooks/data_table.ipynb>data table notebook</a>'\n",
              "          + ' to learn more about interactive tables.';\n",
              "        element.innerHTML = '';\n",
              "        dataTable['output_type'] = 'display_data';\n",
              "        await google.colab.output.renderOutput(dataTable, element);\n",
              "        const docLink = document.createElement('div');\n",
              "        docLink.innerHTML = docLinkHtml;\n",
              "        element.appendChild(docLink);\n",
              "      }\n",
              "    </script>\n",
              "  </div>\n",
              "\n",
              "\n",
              "    <div id=\"df-66c09cee-61b5-4d03-a793-36d7e60d6ce5\">\n",
              "      <button class=\"colab-df-quickchart\" onclick=\"quickchart('df-66c09cee-61b5-4d03-a793-36d7e60d6ce5')\"\n",
              "                title=\"Suggest charts\"\n",
              "                style=\"display:none;\">\n",
              "\n",
              "<svg xmlns=\"http://www.w3.org/2000/svg\" height=\"24px\"viewBox=\"0 0 24 24\"\n",
              "     width=\"24px\">\n",
              "    <g>\n",
              "        <path d=\"M19 3H5c-1.1 0-2 .9-2 2v14c0 1.1.9 2 2 2h14c1.1 0 2-.9 2-2V5c0-1.1-.9-2-2-2zM9 17H7v-7h2v7zm4 0h-2V7h2v10zm4 0h-2v-4h2v4z\"/>\n",
              "    </g>\n",
              "</svg>\n",
              "      </button>\n",
              "\n",
              "<style>\n",
              "  .colab-df-quickchart {\n",
              "      --bg-color: #E8F0FE;\n",
              "      --fill-color: #1967D2;\n",
              "      --hover-bg-color: #E2EBFA;\n",
              "      --hover-fill-color: #174EA6;\n",
              "      --disabled-fill-color: #AAA;\n",
              "      --disabled-bg-color: #DDD;\n",
              "  }\n",
              "\n",
              "  [theme=dark] .colab-df-quickchart {\n",
              "      --bg-color: #3B4455;\n",
              "      --fill-color: #D2E3FC;\n",
              "      --hover-bg-color: #434B5C;\n",
              "      --hover-fill-color: #FFFFFF;\n",
              "      --disabled-bg-color: #3B4455;\n",
              "      --disabled-fill-color: #666;\n",
              "  }\n",
              "\n",
              "  .colab-df-quickchart {\n",
              "    background-color: var(--bg-color);\n",
              "    border: none;\n",
              "    border-radius: 50%;\n",
              "    cursor: pointer;\n",
              "    display: none;\n",
              "    fill: var(--fill-color);\n",
              "    height: 32px;\n",
              "    padding: 0;\n",
              "    width: 32px;\n",
              "  }\n",
              "\n",
              "  .colab-df-quickchart:hover {\n",
              "    background-color: var(--hover-bg-color);\n",
              "    box-shadow: 0 1px 2px rgba(60, 64, 67, 0.3), 0 1px 3px 1px rgba(60, 64, 67, 0.15);\n",
              "    fill: var(--button-hover-fill-color);\n",
              "  }\n",
              "\n",
              "  .colab-df-quickchart-complete:disabled,\n",
              "  .colab-df-quickchart-complete:disabled:hover {\n",
              "    background-color: var(--disabled-bg-color);\n",
              "    fill: var(--disabled-fill-color);\n",
              "    box-shadow: none;\n",
              "  }\n",
              "\n",
              "  .colab-df-spinner {\n",
              "    border: 2px solid var(--fill-color);\n",
              "    border-color: transparent;\n",
              "    border-bottom-color: var(--fill-color);\n",
              "    animation:\n",
              "      spin 1s steps(1) infinite;\n",
              "  }\n",
              "\n",
              "  @keyframes spin {\n",
              "    0% {\n",
              "      border-color: transparent;\n",
              "      border-bottom-color: var(--fill-color);\n",
              "      border-left-color: var(--fill-color);\n",
              "    }\n",
              "    20% {\n",
              "      border-color: transparent;\n",
              "      border-left-color: var(--fill-color);\n",
              "      border-top-color: var(--fill-color);\n",
              "    }\n",
              "    30% {\n",
              "      border-color: transparent;\n",
              "      border-left-color: var(--fill-color);\n",
              "      border-top-color: var(--fill-color);\n",
              "      border-right-color: var(--fill-color);\n",
              "    }\n",
              "    40% {\n",
              "      border-color: transparent;\n",
              "      border-right-color: var(--fill-color);\n",
              "      border-top-color: var(--fill-color);\n",
              "    }\n",
              "    60% {\n",
              "      border-color: transparent;\n",
              "      border-right-color: var(--fill-color);\n",
              "    }\n",
              "    80% {\n",
              "      border-color: transparent;\n",
              "      border-right-color: var(--fill-color);\n",
              "      border-bottom-color: var(--fill-color);\n",
              "    }\n",
              "    90% {\n",
              "      border-color: transparent;\n",
              "      border-bottom-color: var(--fill-color);\n",
              "    }\n",
              "  }\n",
              "</style>\n",
              "\n",
              "      <script>\n",
              "        async function quickchart(key) {\n",
              "          const quickchartButtonEl =\n",
              "            document.querySelector('#' + key + ' button');\n",
              "          quickchartButtonEl.disabled = true;  // To prevent multiple clicks.\n",
              "          quickchartButtonEl.classList.add('colab-df-spinner');\n",
              "          try {\n",
              "            const charts = await google.colab.kernel.invokeFunction(\n",
              "                'suggestCharts', [key], {});\n",
              "          } catch (error) {\n",
              "            console.error('Error during call to suggestCharts:', error);\n",
              "          }\n",
              "          quickchartButtonEl.classList.remove('colab-df-spinner');\n",
              "          quickchartButtonEl.classList.add('colab-df-quickchart-complete');\n",
              "        }\n",
              "        (() => {\n",
              "          let quickchartButtonEl =\n",
              "            document.querySelector('#df-66c09cee-61b5-4d03-a793-36d7e60d6ce5 button');\n",
              "          quickchartButtonEl.style.display =\n",
              "            google.colab.kernel.accessAllowed ? 'block' : 'none';\n",
              "        })();\n",
              "      </script>\n",
              "    </div>\n",
              "\n",
              "  <div id=\"id_fffc889e-0af8-48c4-a006-b575c7f14adb\">\n",
              "    <style>\n",
              "      .colab-df-generate {\n",
              "        background-color: #E8F0FE;\n",
              "        border: none;\n",
              "        border-radius: 50%;\n",
              "        cursor: pointer;\n",
              "        display: none;\n",
              "        fill: #1967D2;\n",
              "        height: 32px;\n",
              "        padding: 0 0 0 0;\n",
              "        width: 32px;\n",
              "      }\n",
              "\n",
              "      .colab-df-generate:hover {\n",
              "        background-color: #E2EBFA;\n",
              "        box-shadow: 0px 1px 2px rgba(60, 64, 67, 0.3), 0px 1px 3px 1px rgba(60, 64, 67, 0.15);\n",
              "        fill: #174EA6;\n",
              "      }\n",
              "\n",
              "      [theme=dark] .colab-df-generate {\n",
              "        background-color: #3B4455;\n",
              "        fill: #D2E3FC;\n",
              "      }\n",
              "\n",
              "      [theme=dark] .colab-df-generate:hover {\n",
              "        background-color: #434B5C;\n",
              "        box-shadow: 0px 1px 3px 1px rgba(0, 0, 0, 0.15);\n",
              "        filter: drop-shadow(0px 1px 2px rgba(0, 0, 0, 0.3));\n",
              "        fill: #FFFFFF;\n",
              "      }\n",
              "    </style>\n",
              "    <button class=\"colab-df-generate\" onclick=\"generateWithVariable('df_encoded')\"\n",
              "            title=\"Generate code using this dataframe.\"\n",
              "            style=\"display:none;\">\n",
              "\n",
              "  <svg xmlns=\"http://www.w3.org/2000/svg\" height=\"24px\"viewBox=\"0 0 24 24\"\n",
              "       width=\"24px\">\n",
              "    <path d=\"M7,19H8.4L18.45,9,17,7.55,7,17.6ZM5,21V16.75L18.45,3.32a2,2,0,0,1,2.83,0l1.4,1.43a1.91,1.91,0,0,1,.58,1.4,1.91,1.91,0,0,1-.58,1.4L9.25,21ZM18.45,9,17,7.55Zm-12,3A5.31,5.31,0,0,0,4.9,8.1,5.31,5.31,0,0,0,1,6.5,5.31,5.31,0,0,0,4.9,4.9,5.31,5.31,0,0,0,6.5,1,5.31,5.31,0,0,0,8.1,4.9,5.31,5.31,0,0,0,12,6.5,5.46,5.46,0,0,0,6.5,12Z\"/>\n",
              "  </svg>\n",
              "    </button>\n",
              "    <script>\n",
              "      (() => {\n",
              "      const buttonEl =\n",
              "        document.querySelector('#id_fffc889e-0af8-48c4-a006-b575c7f14adb button.colab-df-generate');\n",
              "      buttonEl.style.display =\n",
              "        google.colab.kernel.accessAllowed ? 'block' : 'none';\n",
              "\n",
              "      buttonEl.onclick = () => {\n",
              "        google.colab.notebook.generateWithVariable('df_encoded');\n",
              "      }\n",
              "      })();\n",
              "    </script>\n",
              "  </div>\n",
              "\n",
              "    </div>\n",
              "  </div>\n"
            ],
            "application/vnd.google.colaboratory.intrinsic+json": {
              "type": "dataframe",
              "variable_name": "df_encoded"
            }
          },
          "metadata": {},
          "execution_count": 21
        }
      ],
      "source": [
        "# One-Hot Encoding\n",
        "# One-hot encoding is a better choice for the remaining nominal categories\n",
        "\n",
        "df_encoded = df.copy()\n",
        "\n",
        "\n",
        "df_encoded = pd.get_dummies(df_encoded, columns=Categorical_columns)\n",
        "df_encoded"
      ]
    },
    {
      "cell_type": "code",
      "execution_count": 22,
      "metadata": {
        "colab": {
          "base_uri": "https://localhost:8080/"
        },
        "id": "JtVAZtMpsYxl",
        "outputId": "be5ecf76-23d7-4bca-d460-8d982c4cdd0e"
      },
      "outputs": [
        {
          "output_type": "stream",
          "name": "stdout",
          "text": [
            "<class 'pandas.core.frame.DataFrame'>\n",
            "Index: 45222 entries, 0 to 48841\n",
            "Data columns (total 88 columns):\n",
            " #   Column                                     Non-Null Count  Dtype\n",
            "---  ------                                     --------------  -----\n",
            " 0   age                                        45222 non-null  int64\n",
            " 1   education_num                              45222 non-null  int64\n",
            " 2   capital_gain                               45222 non-null  int64\n",
            " 3   capital_loss                               45222 non-null  int64\n",
            " 4   hours_per_week                             45222 non-null  int64\n",
            " 5   income_bracket                             45222 non-null  int8 \n",
            " 6   workclass_Federal-gov                      45222 non-null  bool \n",
            " 7   workclass_Local-gov                        45222 non-null  bool \n",
            " 8   workclass_Private                          45222 non-null  bool \n",
            " 9   workclass_Self-emp-inc                     45222 non-null  bool \n",
            " 10  workclass_Self-emp-not-inc                 45222 non-null  bool \n",
            " 11  workclass_State-gov                        45222 non-null  bool \n",
            " 12  workclass_Without-pay                      45222 non-null  bool \n",
            " 13  marital_status_Divorced                    45222 non-null  bool \n",
            " 14  marital_status_Married-AF-spouse           45222 non-null  bool \n",
            " 15  marital_status_Married-civ-spouse          45222 non-null  bool \n",
            " 16  marital_status_Married-spouse-absent       45222 non-null  bool \n",
            " 17  marital_status_Never-married               45222 non-null  bool \n",
            " 18  marital_status_Separated                   45222 non-null  bool \n",
            " 19  marital_status_Widowed                     45222 non-null  bool \n",
            " 20  occupation_Adm-clerical                    45222 non-null  bool \n",
            " 21  occupation_Armed-Forces                    45222 non-null  bool \n",
            " 22  occupation_Craft-repair                    45222 non-null  bool \n",
            " 23  occupation_Exec-managerial                 45222 non-null  bool \n",
            " 24  occupation_Farming-fishing                 45222 non-null  bool \n",
            " 25  occupation_Handlers-cleaners               45222 non-null  bool \n",
            " 26  occupation_Machine-op-inspct               45222 non-null  bool \n",
            " 27  occupation_Other-service                   45222 non-null  bool \n",
            " 28  occupation_Priv-house-serv                 45222 non-null  bool \n",
            " 29  occupation_Prof-specialty                  45222 non-null  bool \n",
            " 30  occupation_Protective-serv                 45222 non-null  bool \n",
            " 31  occupation_Sales                           45222 non-null  bool \n",
            " 32  occupation_Tech-support                    45222 non-null  bool \n",
            " 33  occupation_Transport-moving                45222 non-null  bool \n",
            " 34  relationship_Husband                       45222 non-null  bool \n",
            " 35  relationship_Not-in-family                 45222 non-null  bool \n",
            " 36  relationship_Other-relative                45222 non-null  bool \n",
            " 37  relationship_Own-child                     45222 non-null  bool \n",
            " 38  relationship_Unmarried                     45222 non-null  bool \n",
            " 39  relationship_Wife                          45222 non-null  bool \n",
            " 40  race_Amer-Indian-Eskimo                    45222 non-null  bool \n",
            " 41  race_Asian-Pac-Islander                    45222 non-null  bool \n",
            " 42  race_Black                                 45222 non-null  bool \n",
            " 43  race_Other                                 45222 non-null  bool \n",
            " 44  race_White                                 45222 non-null  bool \n",
            " 45  sex_Female                                 45222 non-null  bool \n",
            " 46  sex_Male                                   45222 non-null  bool \n",
            " 47  native_country_Cambodia                    45222 non-null  bool \n",
            " 48  native_country_Canada                      45222 non-null  bool \n",
            " 49  native_country_China                       45222 non-null  bool \n",
            " 50  native_country_Columbia                    45222 non-null  bool \n",
            " 51  native_country_Cuba                        45222 non-null  bool \n",
            " 52  native_country_Dominican-Republic          45222 non-null  bool \n",
            " 53  native_country_Ecuador                     45222 non-null  bool \n",
            " 54  native_country_El-Salvador                 45222 non-null  bool \n",
            " 55  native_country_England                     45222 non-null  bool \n",
            " 56  native_country_France                      45222 non-null  bool \n",
            " 57  native_country_Germany                     45222 non-null  bool \n",
            " 58  native_country_Greece                      45222 non-null  bool \n",
            " 59  native_country_Guatemala                   45222 non-null  bool \n",
            " 60  native_country_Haiti                       45222 non-null  bool \n",
            " 61  native_country_Holand-Netherlands          45222 non-null  bool \n",
            " 62  native_country_Honduras                    45222 non-null  bool \n",
            " 63  native_country_Hong                        45222 non-null  bool \n",
            " 64  native_country_Hungary                     45222 non-null  bool \n",
            " 65  native_country_India                       45222 non-null  bool \n",
            " 66  native_country_Iran                        45222 non-null  bool \n",
            " 67  native_country_Ireland                     45222 non-null  bool \n",
            " 68  native_country_Italy                       45222 non-null  bool \n",
            " 69  native_country_Jamaica                     45222 non-null  bool \n",
            " 70  native_country_Japan                       45222 non-null  bool \n",
            " 71  native_country_Laos                        45222 non-null  bool \n",
            " 72  native_country_Mexico                      45222 non-null  bool \n",
            " 73  native_country_Nicaragua                   45222 non-null  bool \n",
            " 74  native_country_Outlying-US(Guam-USVI-etc)  45222 non-null  bool \n",
            " 75  native_country_Peru                        45222 non-null  bool \n",
            " 76  native_country_Philippines                 45222 non-null  bool \n",
            " 77  native_country_Poland                      45222 non-null  bool \n",
            " 78  native_country_Portugal                    45222 non-null  bool \n",
            " 79  native_country_Puerto-Rico                 45222 non-null  bool \n",
            " 80  native_country_Scotland                    45222 non-null  bool \n",
            " 81  native_country_South                       45222 non-null  bool \n",
            " 82  native_country_Taiwan                      45222 non-null  bool \n",
            " 83  native_country_Thailand                    45222 non-null  bool \n",
            " 84  native_country_Trinadad&Tobago             45222 non-null  bool \n",
            " 85  native_country_United-States               45222 non-null  bool \n",
            " 86  native_country_Vietnam                     45222 non-null  bool \n",
            " 87  native_country_Yugoslavia                  45222 non-null  bool \n",
            "dtypes: bool(82), int64(5), int8(1)\n",
            "memory usage: 5.6 MB\n"
          ]
        }
      ],
      "source": [
        "df_encoded.info()"
      ]
    },
    {
      "cell_type": "markdown",
      "metadata": {
        "id": "zOF1cF58IHQF"
      },
      "source": [
        "**Apply Normalization on the numerical Columns**\n",
        "\n",
        "in order for logistic regression to converge, we need to normalize numeric columns or increase the maximum number of iterations of the logistic regression model. In this example we incresed the maximum number of iterations."
      ]
    },
    {
      "cell_type": "code",
      "execution_count": 23,
      "metadata": {
        "id": "cd6BgF1YIHQF"
      },
      "outputs": [],
      "source": [
        "# Applying min-max Normalization on the numerical columns\n",
        "\n",
        "# numerical_columns = ['age', 'capital_gain', 'capital_loss', 'hours_per_week']\n",
        "\n",
        "# df_encoded[numerical_columns] = (\n",
        "\n",
        "#    df_encoded[numerical_columns] - df_encoded[numerical_columns].min()\n",
        "\n",
        "#) /(\n",
        "\n",
        "#    df_encoded[numerical_columns].max() - df_encoded[numerical_columns].min()\n",
        "#)\n",
        "\n",
        "#df_encoded.head()\n"
      ]
    },
    {
      "cell_type": "markdown",
      "metadata": {
        "id": "n3WbCd8tsYxl"
      },
      "source": [
        "## Modelling"
      ]
    },
    {
      "cell_type": "markdown",
      "metadata": {
        "id": "iL13AzKOsYxl"
      },
      "source": [
        "**Split the data into training and testing sets, and then train the Logistic Regression, K-NN, and Naive Bayes Classifiers on the training set** (Use %timeit when building the model)\n",
        "\n",
        "[Scikit-learn API Reference](https://scikit-learn.org/stable/modules/classes.html)"
      ]
    },
    {
      "cell_type": "code",
      "execution_count": 24,
      "metadata": {
        "id": "zGAMS9N0sYxl"
      },
      "outputs": [],
      "source": [
        "from sklearn.model_selection import train_test_split\n",
        "\n",
        "X = df_encoded.drop('income_bracket', axis=1)\n",
        "y = df_encoded['income_bracket']\n",
        "\n",
        "X_train, X_test, y_train, y_test = train_test_split(X, y, test_size=0.3, random_state=42)"
      ]
    },
    {
      "cell_type": "markdown",
      "metadata": {
        "id": "mKI84pvnIHQG"
      },
      "source": [
        "**Please note that, for this dataset you need to set the `max_iter` attribute of logistic regression to at least `2000` so that the model will be able converge, meaning that it could find a local optimal solution.**\n",
        "\n",
        "Logistic regression fails to converge with this dataset if we run it for too few iterations. It could also be that the dataset is not linearly separable. Since this is a linear model, validation techinques like the ones used in lab 5 can be used.The logistic regression model is an iterative algorithm that is fitted in multiple iterations. It might not converge properly if the input variables are not normalized properly. In this case, it needs more iterations to be able to converge and find a solution.\n",
        "\n",
        "So, you can set `max_iter` attribute of logistic regression to a larger value. The default is `100`. This should be your last resort. So, if the algorithm does not converge within the first 1000 iterations, you need to set the `max_iter` to a larger value.\n"
      ]
    },
    {
      "cell_type": "code",
      "execution_count": 25,
      "metadata": {
        "id": "OozEds1isYxm"
      },
      "outputs": [],
      "source": [
        "from sklearn.linear_model import LogisticRegression\n",
        "from sklearn.neighbors import KNeighborsClassifier\n",
        "from sklearn.naive_bayes import GaussianNB\n",
        "\n",
        "lr_model = LogisticRegression( max_iter = 2000 )\n",
        "knn_model = KNeighborsClassifier()\n",
        "nb_model = GaussianNB()\n",
        "\n",
        "# we increased the maximum number of iterations for Logistic regression to converge with this dataset"
      ]
    },
    {
      "cell_type": "markdown",
      "metadata": {
        "id": "9xTDM5sgIHQG"
      },
      "source": [
        "**Use the `timeit` magic command.**\n",
        "\n",
        "The `timeit` magic command is used to measure the execution time for the small python code snippets. This command runs the code a million times (by default) to get the most precise value for the code execution time​.\n",
        "\n",
        "It returns the mean and standard deviation of code run time calculated over `r` number of runs and `n` number of loops within each run (*it may return different results for each time you run the cell*)."
      ]
    },
    {
      "cell_type": "code",
      "execution_count": 26,
      "metadata": {
        "colab": {
          "base_uri": "https://localhost:8080/"
        },
        "id": "5UZ_hoG5sYxm",
        "outputId": "625d3112-414e-44a3-cc5c-39a1a4110ff0"
      },
      "outputs": [
        {
          "output_type": "stream",
          "name": "stdout",
          "text": [
            "56.9 s ± 2.38 s per loop (mean ± std. dev. of 7 runs, 1 loop each)\n"
          ]
        }
      ],
      "source": [
        "# Logistic Regression\n",
        "\n",
        "%timeit lr_model.fit(X_train, y_train)"
      ]
    },
    {
      "cell_type": "code",
      "execution_count": 27,
      "metadata": {
        "colab": {
          "base_uri": "https://localhost:8080/"
        },
        "id": "7iCjR0Tw52Wf",
        "outputId": "3d7fed3a-9d36-4879-a055-a97477a47bdd"
      },
      "outputs": [
        {
          "output_type": "stream",
          "name": "stdout",
          "text": [
            "33.4 ms ± 5.03 ms per loop (mean ± std. dev. of 7 runs, 10 loops each)\n"
          ]
        }
      ],
      "source": [
        "# K-nearst Neighbors Classifier\n",
        "\n",
        "%timeit knn_model.fit(X_train, y_train)"
      ]
    },
    {
      "cell_type": "markdown",
      "metadata": {
        "id": "28vW1yO9IHQH"
      },
      "source": [
        "In the above example, the `KNN` model building was evaluated for 7 runs with each run having 100 loop.\n",
        "\n",
        "This took an average of 16.3 milliseconds with a standard deviation of 2.44 milliseconds.\n",
        "\n",
        "Note that the `kNN` model was the fastest one to get trained."
      ]
    },
    {
      "cell_type": "code",
      "execution_count": 28,
      "metadata": {
        "colab": {
          "base_uri": "https://localhost:8080/"
        },
        "id": "pvs-XuH-52RH",
        "outputId": "6e34c3f2-2050-4357-c609-0da69bfc0d4e"
      },
      "outputs": [
        {
          "output_type": "stream",
          "name": "stdout",
          "text": [
            "75.2 ms ± 11 ms per loop (mean ± std. dev. of 7 runs, 10 loops each)\n"
          ]
        }
      ],
      "source": [
        "# Gaussian Naive Bayes\n",
        "\n",
        "%timeit nb_model.fit(X_train, y_train)"
      ]
    },
    {
      "cell_type": "markdown",
      "metadata": {
        "id": "pSpMGG8CsYxm"
      },
      "source": [
        "## Evaluation"
      ]
    },
    {
      "cell_type": "markdown",
      "metadata": {
        "id": "xXqWh75isYxm"
      },
      "source": [
        "**Evaluate each model using their built-in `score` function to get them evaluated based on the `accuracy` metric**\n",
        "\n",
        "**Use `%timeit` when scoring the model**"
      ]
    },
    {
      "cell_type": "markdown",
      "metadata": {
        "id": "gdFNU9X1sYxm"
      },
      "source": [
        "`score` outputs the accuracy score of each model.\n",
        "\n",
        "Since we have two classes with equal importance and the dataset is somehow balanced (75% <=50k and 25% >50k), we'll use accuracy as our measure."
      ]
    },
    {
      "cell_type": "code",
      "execution_count": 29,
      "metadata": {
        "colab": {
          "base_uri": "https://localhost:8080/"
        },
        "id": "OMPBasrCsYxm",
        "outputId": "d2d95090-c964-4dcb-a170-e13db63541b7"
      },
      "outputs": [
        {
          "output_type": "execute_result",
          "data": {
            "text/plain": [
              "0.8507407680400972"
            ]
          },
          "metadata": {},
          "execution_count": 29
        }
      ],
      "source": [
        "# Logistic Regression accuarcy\n",
        "\n",
        "lr_model.score(X_test, y_test)"
      ]
    },
    {
      "cell_type": "code",
      "execution_count": 30,
      "metadata": {
        "colab": {
          "base_uri": "https://localhost:8080/"
        },
        "id": "7XNDI7DjIHQI",
        "outputId": "d535a563-79d1-4411-ecd5-c3b97b88dba2"
      },
      "outputs": [
        {
          "output_type": "stream",
          "name": "stdout",
          "text": [
            "21.9 ms ± 5.57 ms per loop (mean ± std. dev. of 7 runs, 100 loops each)\n"
          ]
        }
      ],
      "source": [
        "# Logistic Regression scoring execution time\n",
        "\n",
        "%timeit lr_model.score(X_test, y_test)"
      ]
    },
    {
      "cell_type": "code",
      "execution_count": 31,
      "metadata": {
        "colab": {
          "base_uri": "https://localhost:8080/"
        },
        "id": "p6hj1UmHsYxn",
        "outputId": "eebfc3d0-1564-400b-dd02-28b5722be281",
        "scrolled": true
      },
      "outputs": [
        {
          "output_type": "execute_result",
          "data": {
            "text/plain": [
              "0.8471290631679811"
            ]
          },
          "metadata": {},
          "execution_count": 31
        }
      ],
      "source": [
        "# K-nearst Neighbors Classifier accuarcy\n",
        "\n",
        "knn_model.score(X_test, y_test)"
      ]
    },
    {
      "cell_type": "code",
      "execution_count": 32,
      "metadata": {
        "colab": {
          "base_uri": "https://localhost:8080/"
        },
        "id": "Q5LAqo56IHQI",
        "outputId": "6969eef3-a44d-46c3-c429-34952b8ed9d7",
        "scrolled": true
      },
      "outputs": [
        {
          "output_type": "stream",
          "name": "stdout",
          "text": [
            "10 s ± 653 ms per loop (mean ± std. dev. of 7 runs, 1 loop each)\n"
          ]
        }
      ],
      "source": [
        "# K-nearst Neighbors Classifier scoring execution time\n",
        "\n",
        "%timeit knn_model.score(X_test, y_test)"
      ]
    },
    {
      "cell_type": "code",
      "execution_count": 33,
      "metadata": {
        "colab": {
          "base_uri": "https://localhost:8080/"
        },
        "id": "8eHLecXgsYxn",
        "outputId": "7b9bc21d-cdaa-46ee-f12f-d89b07483e42"
      },
      "outputs": [
        {
          "output_type": "execute_result",
          "data": {
            "text/plain": [
              "0.7926586570354537"
            ]
          },
          "metadata": {},
          "execution_count": 33
        }
      ],
      "source": [
        "# Gaussian Naive Bayes accuarcy\n",
        "\n",
        "nb_model.score(X_test, y_test)"
      ]
    },
    {
      "cell_type": "code",
      "execution_count": 34,
      "metadata": {
        "colab": {
          "base_uri": "https://localhost:8080/"
        },
        "id": "x1CXnBiRIHQJ",
        "outputId": "cd9cf66f-84f3-47da-aaab-95c038631256"
      },
      "outputs": [
        {
          "output_type": "stream",
          "name": "stdout",
          "text": [
            "26 ms ± 1.3 ms per loop (mean ± std. dev. of 7 runs, 10 loops each)\n"
          ]
        }
      ],
      "source": [
        "# Gaussian Naive Bayes scoring execution time\n",
        "\n",
        "%timeit nb_model.score(X_test, y_test)"
      ]
    },
    {
      "cell_type": "markdown",
      "metadata": {
        "id": "nDr4ZPq2IHQJ"
      },
      "source": [
        "**Commenting on Evaluation**"
      ]
    },
    {
      "cell_type": "markdown",
      "metadata": {
        "id": "-RtWxk-aIHQJ"
      },
      "source": [
        "`kNN` is a type of instance-based learning (Lazy Learners) where no model is\n",
        "created; the `kNN` algorithm builds a case repository instead and all computations are delayed until prediction therefore, `kNN` requires the longest time in scoring.\n",
        "\n",
        "In this case, the `Logestic Regression` model performs the best, where it is 85.1% accurate. On the other hand, `kNN` and `Guassian Naive Bayes` models showed lower accuracy (84.7% and 79.3% respectively). Note that we used the default hyperparameters for each model however, so we can use cross-validation in order to try out different parameters and then finally evaluate using the testing dataset.\n",
        "\n",
        "Also, it would be better to check for the correlation matrix before applying the `Logestic Regression` model to avoid multicollinearity and overfitting"
      ]
    },
    {
      "cell_type": "markdown",
      "metadata": {
        "id": "FQa0E12FsYxn"
      },
      "source": [
        "## References\n",
        "\n",
        "Dataset source: https://archive.ics.uci.edu/ml/datasets/census+income"
      ]
    }
  ],
  "metadata": {
    "colab": {
      "provenance": []
    },
    "kernelspec": {
      "display_name": "Python 3",
      "language": "python",
      "name": "python3"
    },
    "language_info": {
      "codemirror_mode": {
        "name": "ipython",
        "version": 3
      },
      "file_extension": ".py",
      "mimetype": "text/x-python",
      "name": "python",
      "nbconvert_exporter": "python",
      "pygments_lexer": "ipython3",
      "version": "3.9.13"
    },
    "vscode": {
      "interpreter": {
        "hash": "806d670c7bb2cbe074590fc196bfaf591c17bcc1c3e5afa2a6f71dcbde559284"
      }
    }
  },
  "nbformat": 4,
  "nbformat_minor": 0
}